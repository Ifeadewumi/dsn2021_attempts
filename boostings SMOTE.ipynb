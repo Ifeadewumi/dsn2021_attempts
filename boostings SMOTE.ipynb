{
 "cells": [
  {
   "cell_type": "code",
   "execution_count": 1,
   "metadata": {
    "_cell_guid": "b1076dfc-b9ad-4769-8c92-a6c4dae69d19",
    "_uuid": "8f2839f25d086af736a60e9eeb907d3b93b6e0e5",
    "execution": {
     "iopub.execute_input": "2021-10-14T13:35:06.740615Z",
     "iopub.status.busy": "2021-10-14T13:35:06.739942Z",
     "iopub.status.idle": "2021-10-14T13:35:06.759131Z",
     "shell.execute_reply": "2021-10-14T13:35:06.758274Z",
     "shell.execute_reply.started": "2021-10-14T13:35:06.740581Z"
    }
   },
   "outputs": [],
   "source": [
    "# This Python 3 environment comes with many helpful analytics libraries installed\n",
    "# It is defined by the kaggle/python Docker image: https://github.com/kaggle/docker-python\n",
    "# For example, here's several helpful packages to load\n",
    "\n",
    "import numpy as np # linear algebra\n",
    "import pandas as pd # data processing, CSV file I/O (e.g. pd.read_csv)\n",
    "\n",
    "# Input data files are available in the read-only \"../input/\" directory\n",
    "# For example, running this (by clicking run or pressing Shift+Enter) will list all files under the input directory\n",
    "\n",
    "# import os\n",
    "# for dirname, _, filenames in os.walk('/kaggle/input'):\n",
    "#     for filename in filenames:\n",
    "#         print(os.path.join(dirname, filename))\n",
    "\n",
    "# You can write up to 20GB to the current directory (/kaggle/working/) that gets preserved as output when you create a version using \"Save & Run All\" \n",
    "# You can also write temporary files to /kaggle/temp/, but they won't be saved outside of the current session"
   ]
  },
  {
   "cell_type": "code",
   "execution_count": 2,
   "metadata": {
    "execution": {
     "iopub.execute_input": "2021-10-14T13:35:06.761764Z",
     "iopub.status.busy": "2021-10-14T13:35:06.761426Z",
     "iopub.status.idle": "2021-10-14T13:35:06.798292Z",
     "shell.execute_reply": "2021-10-14T13:35:06.797625Z",
     "shell.execute_reply.started": "2021-10-14T13:35:06.761729Z"
    }
   },
   "outputs": [],
   "source": [
    "train = pd.read_csv('Train.csv')\n",
    "test = pd.read_csv('Test.csv')"
   ]
  },
  {
   "cell_type": "code",
   "execution_count": 3,
   "metadata": {
    "execution": {
     "iopub.execute_input": "2021-10-14T13:35:06.800013Z",
     "iopub.status.busy": "2021-10-14T13:35:06.799817Z",
     "iopub.status.idle": "2021-10-14T13:35:06.821029Z",
     "shell.execute_reply": "2021-10-14T13:35:06.820257Z",
     "shell.execute_reply.started": "2021-10-14T13:35:06.799991Z"
    }
   },
   "outputs": [
    {
     "data": {
      "text/html": [
       "<div>\n",
       "<style scoped>\n",
       "    .dataframe tbody tr th:only-of-type {\n",
       "        vertical-align: middle;\n",
       "    }\n",
       "\n",
       "    .dataframe tbody tr th {\n",
       "        vertical-align: top;\n",
       "    }\n",
       "\n",
       "    .dataframe thead th {\n",
       "        text-align: right;\n",
       "    }\n",
       "</style>\n",
       "<table border=\"1\" class=\"dataframe\">\n",
       "  <thead>\n",
       "    <tr style=\"text-align: right;\">\n",
       "      <th></th>\n",
       "      <th>ID</th>\n",
       "      <th>Response</th>\n",
       "    </tr>\n",
       "  </thead>\n",
       "  <tbody>\n",
       "  </tbody>\n",
       "</table>\n",
       "</div>"
      ],
      "text/plain": [
       "Empty DataFrame\n",
       "Columns: [ID, Response]\n",
       "Index: []"
      ]
     },
     "execution_count": 3,
     "metadata": {},
     "output_type": "execute_result"
    }
   ],
   "source": [
    "#Create submission file using an empty/dummy dataframe\n",
    "sub_file = pd.DataFrame(columns=['ID', 'Response'])\n",
    "sub_file.head() "
   ]
  },
  {
   "cell_type": "code",
   "execution_count": 4,
   "metadata": {
    "execution": {
     "iopub.execute_input": "2021-10-14T13:35:06.822643Z",
     "iopub.status.busy": "2021-10-14T13:35:06.822393Z",
     "iopub.status.idle": "2021-10-14T13:35:06.83651Z",
     "shell.execute_reply": "2021-10-14T13:35:06.835589Z",
     "shell.execute_reply.started": "2021-10-14T13:35:06.82261Z"
    }
   },
   "outputs": [
    {
     "data": {
      "text/html": [
       "<div>\n",
       "<style scoped>\n",
       "    .dataframe tbody tr th:only-of-type {\n",
       "        vertical-align: middle;\n",
       "    }\n",
       "\n",
       "    .dataframe tbody tr th {\n",
       "        vertical-align: top;\n",
       "    }\n",
       "\n",
       "    .dataframe thead th {\n",
       "        text-align: right;\n",
       "    }\n",
       "</style>\n",
       "<table border=\"1\" class=\"dataframe\">\n",
       "  <thead>\n",
       "    <tr style=\"text-align: right;\">\n",
       "      <th></th>\n",
       "      <th>ID</th>\n",
       "      <th>Response</th>\n",
       "    </tr>\n",
       "  </thead>\n",
       "  <tbody>\n",
       "    <tr>\n",
       "      <th>0</th>\n",
       "      <td>ID_ZPMABNVX</td>\n",
       "      <td>NaN</td>\n",
       "    </tr>\n",
       "    <tr>\n",
       "      <th>1</th>\n",
       "      <td>ID_WFE91NAA</td>\n",
       "      <td>NaN</td>\n",
       "    </tr>\n",
       "    <tr>\n",
       "      <th>2</th>\n",
       "      <td>ID_JV11RBRK</td>\n",
       "      <td>NaN</td>\n",
       "    </tr>\n",
       "    <tr>\n",
       "      <th>3</th>\n",
       "      <td>ID_6B7SVKY9</td>\n",
       "      <td>NaN</td>\n",
       "    </tr>\n",
       "    <tr>\n",
       "      <th>4</th>\n",
       "      <td>ID_GOVUZ545</td>\n",
       "      <td>NaN</td>\n",
       "    </tr>\n",
       "  </tbody>\n",
       "</table>\n",
       "</div>"
      ],
      "text/plain": [
       "            ID Response\n",
       "0  ID_ZPMABNVX      NaN\n",
       "1  ID_WFE91NAA      NaN\n",
       "2  ID_JV11RBRK      NaN\n",
       "3  ID_6B7SVKY9      NaN\n",
       "4  ID_GOVUZ545      NaN"
      ]
     },
     "execution_count": 4,
     "metadata": {},
     "output_type": "execute_result"
    }
   ],
   "source": [
    "#Save test ID in a copy for creating submission file later\n",
    "sub_file.ID = test.ID\n",
    "sub_file.head()"
   ]
  },
  {
   "cell_type": "code",
   "execution_count": 5,
   "metadata": {
    "execution": {
     "iopub.execute_input": "2021-10-14T13:35:06.839422Z",
     "iopub.status.busy": "2021-10-14T13:35:06.838882Z",
     "iopub.status.idle": "2021-10-14T13:35:06.849321Z",
     "shell.execute_reply": "2021-10-14T13:35:06.848606Z",
     "shell.execute_reply.started": "2021-10-14T13:35:06.839386Z"
    }
   },
   "outputs": [
    {
     "data": {
      "text/plain": [
       "ID                          object\n",
       "Year_of_Birth                int64\n",
       "Education_Level             object\n",
       "Marital_Status              object\n",
       "Disposable_Income          float64\n",
       "No_of_Kids_in_home           int64\n",
       "No_of_Teen_in_home           int64\n",
       "Date_Customer               object\n",
       "Recency                      int64\n",
       "Discounted_Purchases         int64\n",
       "WebPurchases                 int64\n",
       "CatalogPurchases             int64\n",
       "StorePurchases               int64\n",
       "Amount_on_Wines              int64\n",
       "Amount_on_Fruits             int64\n",
       "Amount_on_MeatProducts       int64\n",
       "Amount_on_FishProducts       int64\n",
       "Amount_on_SweetProducts      int64\n",
       "Amount_on_GoldProds          int64\n",
       "WebVisitsMonth               int64\n",
       "Cmp3Accepted                 int64\n",
       "Cmp4Accepted                 int64\n",
       "Cmp5Accepted                 int64\n",
       "Cmp1Accepted                 int64\n",
       "Cmp2Accepted                 int64\n",
       "Any_Complain                 int64\n",
       "dtype: object"
      ]
     },
     "execution_count": 5,
     "metadata": {},
     "output_type": "execute_result"
    }
   ],
   "source": [
    "test.dtypes"
   ]
  },
  {
   "cell_type": "code",
   "execution_count": 6,
   "metadata": {
    "execution": {
     "iopub.execute_input": "2021-10-14T13:35:06.850966Z",
     "iopub.status.busy": "2021-10-14T13:35:06.850543Z",
     "iopub.status.idle": "2021-10-14T13:35:06.872846Z",
     "shell.execute_reply": "2021-10-14T13:35:06.871989Z",
     "shell.execute_reply.started": "2021-10-14T13:35:06.850904Z"
    }
   },
   "outputs": [
    {
     "name": "stdout",
     "output_type": "stream",
     "text": [
      "<class 'pandas.core.frame.DataFrame'>\n",
      "RangeIndex: 1568 entries, 0 to 1567\n",
      "Data columns (total 27 columns):\n",
      " #   Column                   Non-Null Count  Dtype  \n",
      "---  ------                   --------------  -----  \n",
      " 0   ID                       1568 non-null   object \n",
      " 1   Year_of_Birth            1568 non-null   int64  \n",
      " 2   Education_Level          1568 non-null   object \n",
      " 3   Marital_Status           1568 non-null   object \n",
      " 4   Disposable_Income        1552 non-null   float64\n",
      " 5   No_of_Kids_in_home       1568 non-null   int64  \n",
      " 6   No_of_Teen_in_home       1568 non-null   int64  \n",
      " 7   Date_Customer            1568 non-null   object \n",
      " 8   Recency                  1568 non-null   int64  \n",
      " 9   Discounted_Purchases     1568 non-null   int64  \n",
      " 10  WebPurchases             1568 non-null   int64  \n",
      " 11  CatalogPurchases         1568 non-null   int64  \n",
      " 12  StorePurchases           1568 non-null   int64  \n",
      " 13  Amount_on_Wines          1568 non-null   int64  \n",
      " 14  Amount_on_Fruits         1568 non-null   int64  \n",
      " 15  Amount_on_MeatProducts   1568 non-null   int64  \n",
      " 16  Amount_on_FishProducts   1568 non-null   int64  \n",
      " 17  Amount_on_SweetProducts  1568 non-null   int64  \n",
      " 18  Amount_on_GoldProds      1568 non-null   int64  \n",
      " 19  WebVisitsMonth           1568 non-null   int64  \n",
      " 20  Cmp3Accepted             1568 non-null   int64  \n",
      " 21  Cmp4Accepted             1568 non-null   int64  \n",
      " 22  Cmp5Accepted             1568 non-null   int64  \n",
      " 23  Cmp1Accepted             1568 non-null   int64  \n",
      " 24  Cmp2Accepted             1568 non-null   int64  \n",
      " 25  Any_Complain             1568 non-null   int64  \n",
      " 26  Response                 1568 non-null   int64  \n",
      "dtypes: float64(1), int64(22), object(4)\n",
      "memory usage: 330.9+ KB\n"
     ]
    }
   ],
   "source": [
    "#We can also use the .info method\n",
    "train.info()"
   ]
  },
  {
   "cell_type": "markdown",
   "metadata": {
    "execution": {
     "iopub.execute_input": "2021-10-06T12:36:30.202522Z",
     "iopub.status.busy": "2021-10-06T12:36:30.201474Z",
     "iopub.status.idle": "2021-10-06T12:36:30.208667Z",
     "shell.execute_reply": "2021-10-06T12:36:30.207513Z",
     "shell.execute_reply.started": "2021-10-06T12:36:30.202474Z"
    }
   },
   "source": [
    "You notice we have Date columns, we have to convert that to datetime for pandas to recognise it. We'll use it for feature engineering later.\n",
    "Next two steps\n",
    "\n",
    "*   Drop ID column: We won't need it for modelling\n",
    "*   Convert Datetime column\n",
    "\n"
   ]
  },
  {
   "cell_type": "code",
   "execution_count": 7,
   "metadata": {
    "execution": {
     "iopub.execute_input": "2021-10-14T13:35:06.874493Z",
     "iopub.status.busy": "2021-10-14T13:35:06.874219Z",
     "iopub.status.idle": "2021-10-14T13:35:06.882592Z",
     "shell.execute_reply": "2021-10-14T13:35:06.881582Z",
     "shell.execute_reply.started": "2021-10-14T13:35:06.874458Z"
    }
   },
   "outputs": [],
   "source": [
    "#Drop ID from train and test\n",
    "train.drop('ID', axis=1, inplace=True)\n",
    "test.drop('ID', axis=1, inplace=True)"
   ]
  },
  {
   "cell_type": "code",
   "execution_count": 8,
   "metadata": {
    "execution": {
     "iopub.execute_input": "2021-10-14T13:35:06.884247Z",
     "iopub.status.busy": "2021-10-14T13:35:06.883983Z",
     "iopub.status.idle": "2021-10-14T13:35:06.896919Z",
     "shell.execute_reply": "2021-10-14T13:35:06.896276Z",
     "shell.execute_reply.started": "2021-10-14T13:35:06.884215Z"
    }
   },
   "outputs": [],
   "source": [
    "#Convert Datetime\n",
    "train['Date_Customer'] = pd.to_datetime(train['Date_Customer'])\n",
    "test['Date_Customer'] = pd.to_datetime(test['Date_Customer'])"
   ]
  },
  {
   "cell_type": "code",
   "execution_count": 9,
   "metadata": {
    "execution": {
     "iopub.execute_input": "2021-10-14T13:35:06.898525Z",
     "iopub.status.busy": "2021-10-14T13:35:06.898142Z",
     "iopub.status.idle": "2021-10-14T13:35:06.908613Z",
     "shell.execute_reply": "2021-10-14T13:35:06.907869Z",
     "shell.execute_reply.started": "2021-10-14T13:35:06.898493Z"
    }
   },
   "outputs": [
    {
     "data": {
      "text/plain": [
       "Year_of_Birth                       int64\n",
       "Education_Level                    object\n",
       "Marital_Status                     object\n",
       "Disposable_Income                 float64\n",
       "No_of_Kids_in_home                  int64\n",
       "No_of_Teen_in_home                  int64\n",
       "Date_Customer              datetime64[ns]\n",
       "Recency                             int64\n",
       "Discounted_Purchases                int64\n",
       "WebPurchases                        int64\n",
       "CatalogPurchases                    int64\n",
       "StorePurchases                      int64\n",
       "Amount_on_Wines                     int64\n",
       "Amount_on_Fruits                    int64\n",
       "Amount_on_MeatProducts              int64\n",
       "Amount_on_FishProducts              int64\n",
       "Amount_on_SweetProducts             int64\n",
       "Amount_on_GoldProds                 int64\n",
       "WebVisitsMonth                      int64\n",
       "Cmp3Accepted                        int64\n",
       "Cmp4Accepted                        int64\n",
       "Cmp5Accepted                        int64\n",
       "Cmp1Accepted                        int64\n",
       "Cmp2Accepted                        int64\n",
       "Any_Complain                        int64\n",
       "Response                            int64\n",
       "dtype: object"
      ]
     },
     "execution_count": 9,
     "metadata": {},
     "output_type": "execute_result"
    }
   ],
   "source": [
    "train.dtypes"
   ]
  },
  {
   "cell_type": "markdown",
   "metadata": {
    "execution": {
     "iopub.execute_input": "2021-10-14T13:35:06.911554Z",
     "iopub.status.busy": "2021-10-14T13:35:06.911311Z",
     "iopub.status.idle": "2021-10-14T13:35:06.93299Z",
     "shell.execute_reply": "2021-10-14T13:35:06.932323Z",
     "shell.execute_reply.started": "2021-10-14T13:35:06.911522Z"
    }
   },
   "source": [
    "cmp_acc = train[\"Cmp3Accepted\"] + train[\"Cmp1Accepted\"] + train[\"Cmp2Accepted\"] + train[\"Cmp4Accepted\"] + train[\"Cmp5Accepted\"]\n",
    "train[\"Accepted_Cmps\"] = cmp_acc \n",
    "\n",
    "test[\"Accepted_Cmps\"] = test[\"Cmp3Accepted\"] + test[\"Cmp1Accepted\"] + test[\"Cmp2Accepted\"] + test[\"Cmp4Accepted\"] + test[\"Cmp5Accepted\"]"
   ]
  },
  {
   "cell_type": "markdown",
   "metadata": {
    "execution": {
     "iopub.execute_input": "2021-10-14T13:35:06.934621Z",
     "iopub.status.busy": "2021-10-14T13:35:06.934213Z",
     "iopub.status.idle": "2021-10-14T13:35:06.940807Z",
     "shell.execute_reply": "2021-10-14T13:35:06.940135Z",
     "shell.execute_reply.started": "2021-10-14T13:35:06.934589Z"
    }
   },
   "source": [
    "# drop individual campaign variables\n",
    "def drop_individual_campaigns(df):\n",
    "    df.drop(\"Cmp1Accepted\", axis=1, inplace=True)\n",
    "    df.drop(\"Cmp2Accepted\", axis=1, inplace=True)\n",
    "    df.drop(\"Cmp3Accepted\", axis=1, inplace=True)\n",
    "    df.drop(\"Cmp4Accepted\", axis=1, inplace=True)\n",
    "    df.drop(\"Cmp5Accepted\", axis=1, inplace=True)\n",
    "    print(df.head())\n",
    "    return df\n",
    "    "
   ]
  },
  {
   "cell_type": "markdown",
   "metadata": {
    "execution": {
     "iopub.execute_input": "2021-10-14T13:35:06.942461Z",
     "iopub.status.busy": "2021-10-14T13:35:06.942015Z",
     "iopub.status.idle": "2021-10-14T13:35:06.999686Z",
     "shell.execute_reply": "2021-10-14T13:35:06.999038Z",
     "shell.execute_reply.started": "2021-10-14T13:35:06.942429Z"
    }
   },
   "source": [
    "drop_individual_campaigns(train)\n",
    "drop_individual_campaigns(test)"
   ]
  },
  {
   "cell_type": "code",
   "execution_count": 10,
   "metadata": {
    "execution": {
     "iopub.execute_input": "2021-10-14T13:35:07.000996Z",
     "iopub.status.busy": "2021-10-14T13:35:07.000765Z",
     "iopub.status.idle": "2021-10-14T13:35:07.007112Z",
     "shell.execute_reply": "2021-10-14T13:35:07.006279Z",
     "shell.execute_reply.started": "2021-10-14T13:35:07.000966Z"
    }
   },
   "outputs": [
    {
     "data": {
      "text/plain": [
       "(1568, 26)"
      ]
     },
     "execution_count": 10,
     "metadata": {},
     "output_type": "execute_result"
    }
   ],
   "source": [
    "train.shape"
   ]
  },
  {
   "cell_type": "code",
   "execution_count": 11,
   "metadata": {
    "execution": {
     "iopub.execute_input": "2021-10-14T13:35:07.01253Z",
     "iopub.status.busy": "2021-10-14T13:35:07.012248Z",
     "iopub.status.idle": "2021-10-14T13:35:07.020551Z",
     "shell.execute_reply": "2021-10-14T13:35:07.019658Z",
     "shell.execute_reply.started": "2021-10-14T13:35:07.012494Z"
    }
   },
   "outputs": [
    {
     "name": "stdout",
     "output_type": "stream",
     "text": [
      "The Categorical Columns are: Index(['Education_Level', 'Marital_Status'], dtype='object')\n",
      "The Numerical Columns are: ['Year_of_Birth', 'Disposable_Income', 'No_of_Kids_in_home', 'No_of_Teen_in_home', 'Date_Customer', 'Recency', 'Discounted_Purchases', 'WebPurchases', 'CatalogPurchases', 'StorePurchases', 'Amount_on_Wines', 'Amount_on_Fruits', 'Amount_on_MeatProducts', 'Amount_on_FishProducts', 'Amount_on_SweetProducts', 'Amount_on_GoldProds', 'WebVisitsMonth', 'Cmp3Accepted', 'Cmp4Accepted', 'Cmp5Accepted', 'Cmp1Accepted', 'Cmp2Accepted', 'Any_Complain', 'Response']\n"
     ]
    }
   ],
   "source": [
    "# We can separate catgorical and numerical column\n",
    "#categ_cols == categorical columns . Date column excluded\n",
    "categ_cols = train.select_dtypes(include=['object', 'category']).columns\n",
    "\n",
    "# num column == numerical columns + date column included\n",
    "num_cols = [col for col in train.columns if col not in categ_cols]\n",
    "print(f'The Categorical Columns are: {categ_cols}')\n",
    "print(f'The Numerical Columns are: {num_cols}')"
   ]
  },
  {
   "cell_type": "code",
   "execution_count": 12,
   "metadata": {
    "execution": {
     "iopub.execute_input": "2021-10-14T13:35:07.022846Z",
     "iopub.status.busy": "2021-10-14T13:35:07.022159Z",
     "iopub.status.idle": "2021-10-14T13:35:07.036783Z",
     "shell.execute_reply": "2021-10-14T13:35:07.035822Z",
     "shell.execute_reply.started": "2021-10-14T13:35:07.022809Z"
    }
   },
   "outputs": [
    {
     "name": "stdout",
     "output_type": "stream",
     "text": [
      "Unique entries in the Education_Level column in the train set is: 5\n",
      "and the unique entries are: ['Graduation' '2n Cycle' 'Master' 'PhD' 'Basic']\n",
      "Unique entries in the Marital_Status column in the train set is: 8\n",
      "and the unique entries are: ['Divorced' 'Together' 'Single' 'Married' 'Widow' 'Alone' 'Absurd' 'YOLO']\n",
      "Unique entries in the Education_Level column in the test set is: 5\n",
      "and the unique entries are: ['Graduation' 'Basic' 'Master' '2n Cycle' 'PhD']\n",
      "Unique entries in the Marital_Status column in the test set is: 6\n",
      "and the unique entries are: ['Single' 'Widow' 'Married' 'Together' 'Divorced' 'Absurd']\n"
     ]
    }
   ],
   "source": [
    "for col in categ_cols:\n",
    "    print(f'Unique entries in the {col} column in the train set is: {train[col].nunique()}')\n",
    "    print(f'and the unique entries are: {train[col].unique()}')\n",
    "    \n",
    "for col in categ_cols:\n",
    "    print(f'Unique entries in the {col} column in the test set is: {test[col].nunique()}')\n",
    "    print(f'and the unique entries are: {test[col].unique()}')"
   ]
  },
  {
   "cell_type": "code",
   "execution_count": 13,
   "metadata": {
    "execution": {
     "iopub.execute_input": "2021-10-14T13:35:07.03845Z",
     "iopub.status.busy": "2021-10-14T13:35:07.0382Z",
     "iopub.status.idle": "2021-10-14T13:35:07.045511Z",
     "shell.execute_reply": "2021-10-14T13:35:07.044694Z",
     "shell.execute_reply.started": "2021-10-14T13:35:07.038419Z"
    }
   },
   "outputs": [
    {
     "name": "stdout",
     "output_type": "stream",
     "text": [
      "Unique entries in the Target column in  is: 2\n",
      "and the unique entries are: [0 1]\n"
     ]
    }
   ],
   "source": [
    "print(f'Unique entries in the Target column in  is: {train.Response.nunique()}')\n",
    "print(f'and the unique entries are: {train.Response.unique()}')"
   ]
  },
  {
   "cell_type": "code",
   "execution_count": 14,
   "metadata": {
    "execution": {
     "iopub.execute_input": "2021-10-14T13:35:07.047605Z",
     "iopub.status.busy": "2021-10-14T13:35:07.047132Z",
     "iopub.status.idle": "2021-10-14T13:35:07.263845Z",
     "shell.execute_reply": "2021-10-14T13:35:07.263196Z",
     "shell.execute_reply.started": "2021-10-14T13:35:07.04757Z"
    }
   },
   "outputs": [
    {
     "name": "stderr",
     "output_type": "stream",
     "text": [
      "\n",
      "Bad key \"text.kerning_factor\" on line 4 in\n",
      "C:\\Users\\User\\anaconda3\\lib\\site-packages\\matplotlib\\mpl-data\\stylelib\\_classic_test_patch.mplstyle.\n",
      "You probably need to get an updated matplotlibrc file from\n",
      "https://github.com/matplotlib/matplotlib/blob/v3.1.3/matplotlibrc.template\n",
      "or from the matplotlib source distribution\n"
     ]
    },
    {
     "data": {
      "text/plain": [
       "<matplotlib.axes._subplots.AxesSubplot at 0x24fef554a48>"
      ]
     },
     "execution_count": 14,
     "metadata": {},
     "output_type": "execute_result"
    },
    {
     "data": {
      "image/png": "[encoded data removed]",
      "text/plain": [
       "<Figure size 432x288 with 1 Axes>"
      ]
     },
     "metadata": {
      "needs_background": "light"
     },
     "output_type": "display_data"
    }
   ],
   "source": [
    "train.Response.value_counts().plot(kind='bar')"
   ]
  },
  {
   "cell_type": "code",
   "execution_count": 15,
   "metadata": {
    "execution": {
     "iopub.execute_input": "2021-10-14T13:35:07.265254Z",
     "iopub.status.busy": "2021-10-14T13:35:07.264993Z",
     "iopub.status.idle": "2021-10-14T13:35:07.272354Z",
     "shell.execute_reply": "2021-10-14T13:35:07.271513Z",
     "shell.execute_reply.started": "2021-10-14T13:35:07.265223Z"
    }
   },
   "outputs": [
    {
     "data": {
      "text/plain": [
       "dtype('float64')"
      ]
     },
     "execution_count": 15,
     "metadata": {},
     "output_type": "execute_result"
    }
   ],
   "source": [
    "train['Disposable_Income'].dtype"
   ]
  },
  {
   "cell_type": "code",
   "execution_count": 16,
   "metadata": {
    "execution": {
     "iopub.execute_input": "2021-10-14T13:35:07.274099Z",
     "iopub.status.busy": "2021-10-14T13:35:07.273659Z",
     "iopub.status.idle": "2021-10-14T13:35:07.286349Z",
     "shell.execute_reply": "2021-10-14T13:35:07.285495Z",
     "shell.execute_reply.started": "2021-10-14T13:35:07.274019Z"
    }
   },
   "outputs": [
    {
     "data": {
      "text/plain": [
       "Year_of_Birth              0\n",
       "Education_Level            0\n",
       "Marital_Status             0\n",
       "Disposable_Income          0\n",
       "No_of_Kids_in_home         0\n",
       "No_of_Teen_in_home         0\n",
       "Date_Customer              0\n",
       "Recency                    0\n",
       "Discounted_Purchases       0\n",
       "WebPurchases               0\n",
       "CatalogPurchases           0\n",
       "StorePurchases             0\n",
       "Amount_on_Wines            0\n",
       "Amount_on_Fruits           0\n",
       "Amount_on_MeatProducts     0\n",
       "Amount_on_FishProducts     0\n",
       "Amount_on_SweetProducts    0\n",
       "Amount_on_GoldProds        0\n",
       "WebVisitsMonth             0\n",
       "Cmp3Accepted               0\n",
       "Cmp4Accepted               0\n",
       "Cmp5Accepted               0\n",
       "Cmp1Accepted               0\n",
       "Cmp2Accepted               0\n",
       "Any_Complain               0\n",
       "Response                   0\n",
       "dtype: int64"
      ]
     },
     "execution_count": 16,
     "metadata": {},
     "output_type": "execute_result"
    }
   ],
   "source": [
    "train['Disposable_Income'].fillna((train['Disposable_Income'].median()) , inplace = True)\n",
    "#check again to make sure\n",
    "train.isnull().sum()"
   ]
  },
  {
   "cell_type": "code",
   "execution_count": 17,
   "metadata": {
    "execution": {
     "iopub.execute_input": "2021-10-14T13:35:07.287918Z",
     "iopub.status.busy": "2021-10-14T13:35:07.287657Z",
     "iopub.status.idle": "2021-10-14T13:35:07.297464Z",
     "shell.execute_reply": "2021-10-14T13:35:07.296499Z",
     "shell.execute_reply.started": "2021-10-14T13:35:07.287878Z"
    }
   },
   "outputs": [
    {
     "data": {
      "text/plain": [
       "Year_of_Birth              0\n",
       "Education_Level            0\n",
       "Marital_Status             0\n",
       "Disposable_Income          0\n",
       "No_of_Kids_in_home         0\n",
       "No_of_Teen_in_home         0\n",
       "Date_Customer              0\n",
       "Recency                    0\n",
       "Discounted_Purchases       0\n",
       "WebPurchases               0\n",
       "CatalogPurchases           0\n",
       "StorePurchases             0\n",
       "Amount_on_Wines            0\n",
       "Amount_on_Fruits           0\n",
       "Amount_on_MeatProducts     0\n",
       "Amount_on_FishProducts     0\n",
       "Amount_on_SweetProducts    0\n",
       "Amount_on_GoldProds        0\n",
       "WebVisitsMonth             0\n",
       "Cmp3Accepted               0\n",
       "Cmp4Accepted               0\n",
       "Cmp5Accepted               0\n",
       "Cmp1Accepted               0\n",
       "Cmp2Accepted               0\n",
       "Any_Complain               0\n",
       "dtype: int64"
      ]
     },
     "execution_count": 17,
     "metadata": {},
     "output_type": "execute_result"
    }
   ],
   "source": [
    "test['Disposable_Income'].fillna((test['Disposable_Income'].median()) , inplace = True)\n",
    "#check again to make sure\n",
    "test.isnull().sum()"
   ]
  },
  {
   "cell_type": "code",
   "execution_count": 18,
   "metadata": {
    "execution": {
     "iopub.execute_input": "2021-10-14T13:35:07.299792Z",
     "iopub.status.busy": "2021-10-14T13:35:07.299439Z",
     "iopub.status.idle": "2021-10-14T13:35:07.328864Z",
     "shell.execute_reply": "2021-10-14T13:35:07.328076Z",
     "shell.execute_reply.started": "2021-10-14T13:35:07.299755Z"
    }
   },
   "outputs": [
    {
     "name": "stdout",
     "output_type": "stream",
     "text": [
      "The Size of the train set is now: (1568, 26)\n"
     ]
    },
    {
     "data": {
      "text/html": [
       "<div>\n",
       "<style scoped>\n",
       "    .dataframe tbody tr th:only-of-type {\n",
       "        vertical-align: middle;\n",
       "    }\n",
       "\n",
       "    .dataframe tbody tr th {\n",
       "        vertical-align: top;\n",
       "    }\n",
       "\n",
       "    .dataframe thead th {\n",
       "        text-align: right;\n",
       "    }\n",
       "</style>\n",
       "<table border=\"1\" class=\"dataframe\">\n",
       "  <thead>\n",
       "    <tr style=\"text-align: right;\">\n",
       "      <th></th>\n",
       "      <th>Year_of_Birth</th>\n",
       "      <th>Education_Level</th>\n",
       "      <th>Marital_Status</th>\n",
       "      <th>Disposable_Income</th>\n",
       "      <th>No_of_Kids_in_home</th>\n",
       "      <th>No_of_Teen_in_home</th>\n",
       "      <th>Date_Customer</th>\n",
       "      <th>Recency</th>\n",
       "      <th>Discounted_Purchases</th>\n",
       "      <th>WebPurchases</th>\n",
       "      <th>...</th>\n",
       "      <th>Amount_on_SweetProducts</th>\n",
       "      <th>Amount_on_GoldProds</th>\n",
       "      <th>WebVisitsMonth</th>\n",
       "      <th>Cmp3Accepted</th>\n",
       "      <th>Cmp4Accepted</th>\n",
       "      <th>Cmp5Accepted</th>\n",
       "      <th>Cmp1Accepted</th>\n",
       "      <th>Cmp2Accepted</th>\n",
       "      <th>Any_Complain</th>\n",
       "      <th>Response</th>\n",
       "    </tr>\n",
       "  </thead>\n",
       "  <tbody>\n",
       "    <tr>\n",
       "      <th>0</th>\n",
       "      <td>1955</td>\n",
       "      <td>Graduation</td>\n",
       "      <td>Divorced</td>\n",
       "      <td>77504.4</td>\n",
       "      <td>1</td>\n",
       "      <td>1</td>\n",
       "      <td>2014-06-22</td>\n",
       "      <td>56</td>\n",
       "      <td>2</td>\n",
       "      <td>1</td>\n",
       "      <td>...</td>\n",
       "      <td>6</td>\n",
       "      <td>20</td>\n",
       "      <td>3</td>\n",
       "      <td>0</td>\n",
       "      <td>0</td>\n",
       "      <td>0</td>\n",
       "      <td>0</td>\n",
       "      <td>0</td>\n",
       "      <td>0</td>\n",
       "      <td>0</td>\n",
       "    </tr>\n",
       "    <tr>\n",
       "      <th>1</th>\n",
       "      <td>1958</td>\n",
       "      <td>Graduation</td>\n",
       "      <td>Together</td>\n",
       "      <td>56784.0</td>\n",
       "      <td>0</td>\n",
       "      <td>1</td>\n",
       "      <td>2013-01-08</td>\n",
       "      <td>17</td>\n",
       "      <td>6</td>\n",
       "      <td>5</td>\n",
       "      <td>...</td>\n",
       "      <td>15</td>\n",
       "      <td>19</td>\n",
       "      <td>6</td>\n",
       "      <td>0</td>\n",
       "      <td>0</td>\n",
       "      <td>0</td>\n",
       "      <td>0</td>\n",
       "      <td>0</td>\n",
       "      <td>0</td>\n",
       "      <td>0</td>\n",
       "    </tr>\n",
       "    <tr>\n",
       "      <th>2</th>\n",
       "      <td>1962</td>\n",
       "      <td>Graduation</td>\n",
       "      <td>Single</td>\n",
       "      <td>103714.8</td>\n",
       "      <td>0</td>\n",
       "      <td>0</td>\n",
       "      <td>2013-11-21</td>\n",
       "      <td>17</td>\n",
       "      <td>0</td>\n",
       "      <td>7</td>\n",
       "      <td>...</td>\n",
       "      <td>18</td>\n",
       "      <td>37</td>\n",
       "      <td>2</td>\n",
       "      <td>0</td>\n",
       "      <td>0</td>\n",
       "      <td>0</td>\n",
       "      <td>1</td>\n",
       "      <td>0</td>\n",
       "      <td>0</td>\n",
       "      <td>1</td>\n",
       "    </tr>\n",
       "    <tr>\n",
       "      <th>3</th>\n",
       "      <td>1979</td>\n",
       "      <td>2n Cycle</td>\n",
       "      <td>Single</td>\n",
       "      <td>46311.6</td>\n",
       "      <td>1</td>\n",
       "      <td>0</td>\n",
       "      <td>2013-09-13</td>\n",
       "      <td>49</td>\n",
       "      <td>3</td>\n",
       "      <td>4</td>\n",
       "      <td>...</td>\n",
       "      <td>24</td>\n",
       "      <td>24</td>\n",
       "      <td>8</td>\n",
       "      <td>0</td>\n",
       "      <td>0</td>\n",
       "      <td>0</td>\n",
       "      <td>0</td>\n",
       "      <td>0</td>\n",
       "      <td>0</td>\n",
       "      <td>0</td>\n",
       "    </tr>\n",
       "    <tr>\n",
       "      <th>4</th>\n",
       "      <td>1959</td>\n",
       "      <td>Graduation</td>\n",
       "      <td>Married</td>\n",
       "      <td>87486.0</td>\n",
       "      <td>0</td>\n",
       "      <td>0</td>\n",
       "      <td>2014-01-21</td>\n",
       "      <td>59</td>\n",
       "      <td>1</td>\n",
       "      <td>3</td>\n",
       "      <td>...</td>\n",
       "      <td>165</td>\n",
       "      <td>203</td>\n",
       "      <td>1</td>\n",
       "      <td>0</td>\n",
       "      <td>0</td>\n",
       "      <td>0</td>\n",
       "      <td>1</td>\n",
       "      <td>0</td>\n",
       "      <td>0</td>\n",
       "      <td>0</td>\n",
       "    </tr>\n",
       "  </tbody>\n",
       "</table>\n",
       "<p>5 rows × 26 columns</p>\n",
       "</div>"
      ],
      "text/plain": [
       "   Year_of_Birth Education_Level Marital_Status  Disposable_Income  \\\n",
       "0           1955      Graduation       Divorced            77504.4   \n",
       "1           1958      Graduation       Together            56784.0   \n",
       "2           1962      Graduation         Single           103714.8   \n",
       "3           1979        2n Cycle         Single            46311.6   \n",
       "4           1959      Graduation        Married            87486.0   \n",
       "\n",
       "   No_of_Kids_in_home  No_of_Teen_in_home Date_Customer  Recency  \\\n",
       "0                   1                   1    2014-06-22       56   \n",
       "1                   0                   1    2013-01-08       17   \n",
       "2                   0                   0    2013-11-21       17   \n",
       "3                   1                   0    2013-09-13       49   \n",
       "4                   0                   0    2014-01-21       59   \n",
       "\n",
       "   Discounted_Purchases  WebPurchases  ...  Amount_on_SweetProducts  \\\n",
       "0                     2             1  ...                        6   \n",
       "1                     6             5  ...                       15   \n",
       "2                     0             7  ...                       18   \n",
       "3                     3             4  ...                       24   \n",
       "4                     1             3  ...                      165   \n",
       "\n",
       "   Amount_on_GoldProds  WebVisitsMonth  Cmp3Accepted  Cmp4Accepted  \\\n",
       "0                   20               3             0             0   \n",
       "1                   19               6             0             0   \n",
       "2                   37               2             0             0   \n",
       "3                   24               8             0             0   \n",
       "4                  203               1             0             0   \n",
       "\n",
       "   Cmp5Accepted  Cmp1Accepted  Cmp2Accepted  Any_Complain  Response  \n",
       "0             0             0             0             0         0  \n",
       "1             0             0             0             0         0  \n",
       "2             0             1             0             0         1  \n",
       "3             0             0             0             0         0  \n",
       "4             0             1             0             0         0  \n",
       "\n",
       "[5 rows x 26 columns]"
      ]
     },
     "execution_count": 18,
     "metadata": {},
     "output_type": "execute_result"
    }
   ],
   "source": [
    "#Read train and test again\n",
    "print(f'The Size of the train set is now: {train.shape}')\n",
    "train.head()"
   ]
  },
  {
   "cell_type": "code",
   "execution_count": 19,
   "metadata": {
    "execution": {
     "iopub.execute_input": "2021-10-14T13:35:07.330471Z",
     "iopub.status.busy": "2021-10-14T13:35:07.33022Z",
     "iopub.status.idle": "2021-10-14T13:35:07.354601Z",
     "shell.execute_reply": "2021-10-14T13:35:07.35364Z",
     "shell.execute_reply.started": "2021-10-14T13:35:07.330431Z"
    }
   },
   "outputs": [
    {
     "name": "stdout",
     "output_type": "stream",
     "text": [
      "The Size of the test set is now: (672, 25)\n"
     ]
    },
    {
     "data": {
      "text/html": [
       "<div>\n",
       "<style scoped>\n",
       "    .dataframe tbody tr th:only-of-type {\n",
       "        vertical-align: middle;\n",
       "    }\n",
       "\n",
       "    .dataframe tbody tr th {\n",
       "        vertical-align: top;\n",
       "    }\n",
       "\n",
       "    .dataframe thead th {\n",
       "        text-align: right;\n",
       "    }\n",
       "</style>\n",
       "<table border=\"1\" class=\"dataframe\">\n",
       "  <thead>\n",
       "    <tr style=\"text-align: right;\">\n",
       "      <th></th>\n",
       "      <th>Year_of_Birth</th>\n",
       "      <th>Education_Level</th>\n",
       "      <th>Marital_Status</th>\n",
       "      <th>Disposable_Income</th>\n",
       "      <th>No_of_Kids_in_home</th>\n",
       "      <th>No_of_Teen_in_home</th>\n",
       "      <th>Date_Customer</th>\n",
       "      <th>Recency</th>\n",
       "      <th>Discounted_Purchases</th>\n",
       "      <th>WebPurchases</th>\n",
       "      <th>...</th>\n",
       "      <th>Amount_on_FishProducts</th>\n",
       "      <th>Amount_on_SweetProducts</th>\n",
       "      <th>Amount_on_GoldProds</th>\n",
       "      <th>WebVisitsMonth</th>\n",
       "      <th>Cmp3Accepted</th>\n",
       "      <th>Cmp4Accepted</th>\n",
       "      <th>Cmp5Accepted</th>\n",
       "      <th>Cmp1Accepted</th>\n",
       "      <th>Cmp2Accepted</th>\n",
       "      <th>Any_Complain</th>\n",
       "    </tr>\n",
       "  </thead>\n",
       "  <tbody>\n",
       "    <tr>\n",
       "      <th>0</th>\n",
       "      <td>1954</td>\n",
       "      <td>Graduation</td>\n",
       "      <td>Single</td>\n",
       "      <td>48556.8</td>\n",
       "      <td>0</td>\n",
       "      <td>1</td>\n",
       "      <td>2013-11-01</td>\n",
       "      <td>85</td>\n",
       "      <td>6</td>\n",
       "      <td>8</td>\n",
       "      <td>...</td>\n",
       "      <td>7</td>\n",
       "      <td>23</td>\n",
       "      <td>41</td>\n",
       "      <td>8</td>\n",
       "      <td>0</td>\n",
       "      <td>0</td>\n",
       "      <td>0</td>\n",
       "      <td>0</td>\n",
       "      <td>0</td>\n",
       "      <td>0</td>\n",
       "    </tr>\n",
       "    <tr>\n",
       "      <th>1</th>\n",
       "      <td>1961</td>\n",
       "      <td>Graduation</td>\n",
       "      <td>Widow</td>\n",
       "      <td>57499.2</td>\n",
       "      <td>0</td>\n",
       "      <td>1</td>\n",
       "      <td>2012-11-22</td>\n",
       "      <td>79</td>\n",
       "      <td>5</td>\n",
       "      <td>7</td>\n",
       "      <td>...</td>\n",
       "      <td>0</td>\n",
       "      <td>0</td>\n",
       "      <td>75</td>\n",
       "      <td>6</td>\n",
       "      <td>0</td>\n",
       "      <td>1</td>\n",
       "      <td>0</td>\n",
       "      <td>0</td>\n",
       "      <td>0</td>\n",
       "      <td>0</td>\n",
       "    </tr>\n",
       "    <tr>\n",
       "      <th>2</th>\n",
       "      <td>1973</td>\n",
       "      <td>Basic</td>\n",
       "      <td>Married</td>\n",
       "      <td>17025.6</td>\n",
       "      <td>0</td>\n",
       "      <td>0</td>\n",
       "      <td>2013-02-28</td>\n",
       "      <td>47</td>\n",
       "      <td>1</td>\n",
       "      <td>2</td>\n",
       "      <td>...</td>\n",
       "      <td>16</td>\n",
       "      <td>12</td>\n",
       "      <td>27</td>\n",
       "      <td>6</td>\n",
       "      <td>0</td>\n",
       "      <td>0</td>\n",
       "      <td>0</td>\n",
       "      <td>0</td>\n",
       "      <td>0</td>\n",
       "      <td>0</td>\n",
       "    </tr>\n",
       "    <tr>\n",
       "      <th>3</th>\n",
       "      <td>1970</td>\n",
       "      <td>Graduation</td>\n",
       "      <td>Together</td>\n",
       "      <td>91983.6</td>\n",
       "      <td>0</td>\n",
       "      <td>0</td>\n",
       "      <td>2013-08-16</td>\n",
       "      <td>98</td>\n",
       "      <td>1</td>\n",
       "      <td>4</td>\n",
       "      <td>...</td>\n",
       "      <td>219</td>\n",
       "      <td>189</td>\n",
       "      <td>126</td>\n",
       "      <td>2</td>\n",
       "      <td>0</td>\n",
       "      <td>0</td>\n",
       "      <td>1</td>\n",
       "      <td>1</td>\n",
       "      <td>0</td>\n",
       "      <td>0</td>\n",
       "    </tr>\n",
       "    <tr>\n",
       "      <th>4</th>\n",
       "      <td>1959</td>\n",
       "      <td>Graduation</td>\n",
       "      <td>Together</td>\n",
       "      <td>78235.2</td>\n",
       "      <td>0</td>\n",
       "      <td>2</td>\n",
       "      <td>2013-07-25</td>\n",
       "      <td>41</td>\n",
       "      <td>2</td>\n",
       "      <td>7</td>\n",
       "      <td>...</td>\n",
       "      <td>12</td>\n",
       "      <td>0</td>\n",
       "      <td>200</td>\n",
       "      <td>5</td>\n",
       "      <td>1</td>\n",
       "      <td>0</td>\n",
       "      <td>0</td>\n",
       "      <td>0</td>\n",
       "      <td>0</td>\n",
       "      <td>0</td>\n",
       "    </tr>\n",
       "  </tbody>\n",
       "</table>\n",
       "<p>5 rows × 25 columns</p>\n",
       "</div>"
      ],
      "text/plain": [
       "   Year_of_Birth Education_Level Marital_Status  Disposable_Income  \\\n",
       "0           1954      Graduation         Single            48556.8   \n",
       "1           1961      Graduation          Widow            57499.2   \n",
       "2           1973           Basic        Married            17025.6   \n",
       "3           1970      Graduation       Together            91983.6   \n",
       "4           1959      Graduation       Together            78235.2   \n",
       "\n",
       "   No_of_Kids_in_home  No_of_Teen_in_home Date_Customer  Recency  \\\n",
       "0                   0                   1    2013-11-01       85   \n",
       "1                   0                   1    2012-11-22       79   \n",
       "2                   0                   0    2013-02-28       47   \n",
       "3                   0                   0    2013-08-16       98   \n",
       "4                   0                   2    2013-07-25       41   \n",
       "\n",
       "   Discounted_Purchases  WebPurchases  ...  Amount_on_FishProducts  \\\n",
       "0                     6             8  ...                       7   \n",
       "1                     5             7  ...                       0   \n",
       "2                     1             2  ...                      16   \n",
       "3                     1             4  ...                     219   \n",
       "4                     2             7  ...                      12   \n",
       "\n",
       "   Amount_on_SweetProducts  Amount_on_GoldProds  WebVisitsMonth  Cmp3Accepted  \\\n",
       "0                       23                   41               8             0   \n",
       "1                        0                   75               6             0   \n",
       "2                       12                   27               6             0   \n",
       "3                      189                  126               2             0   \n",
       "4                        0                  200               5             1   \n",
       "\n",
       "   Cmp4Accepted  Cmp5Accepted  Cmp1Accepted  Cmp2Accepted  Any_Complain  \n",
       "0             0             0             0             0             0  \n",
       "1             1             0             0             0             0  \n",
       "2             0             0             0             0             0  \n",
       "3             0             1             1             0             0  \n",
       "4             0             0             0             0             0  \n",
       "\n",
       "[5 rows x 25 columns]"
      ]
     },
     "execution_count": 19,
     "metadata": {},
     "output_type": "execute_result"
    }
   ],
   "source": [
    "print(f'The Size of the test set is now: {test.shape}')\n",
    "test.head()"
   ]
  },
  {
   "cell_type": "markdown",
   "metadata": {},
   "source": [
    "## Encoding Categorical Variables\n",
    "* Next, we're going to encode the categorical variable\n",
    "* We'll use Label Encoding to avoid mismatch of dimensionality in train and test that could be caused by dummy encoder"
   ]
  },
  {
   "cell_type": "code",
   "execution_count": 20,
   "metadata": {
    "execution": {
     "iopub.execute_input": "2021-10-14T13:35:07.357181Z",
     "iopub.status.busy": "2021-10-14T13:35:07.356541Z",
     "iopub.status.idle": "2021-10-14T13:35:08.006548Z",
     "shell.execute_reply": "2021-10-14T13:35:08.005698Z",
     "shell.execute_reply.started": "2021-10-14T13:35:07.357144Z"
    }
   },
   "outputs": [
    {
     "data": {
      "text/html": [
       "<div>\n",
       "<style scoped>\n",
       "    .dataframe tbody tr th:only-of-type {\n",
       "        vertical-align: middle;\n",
       "    }\n",
       "\n",
       "    .dataframe tbody tr th {\n",
       "        vertical-align: top;\n",
       "    }\n",
       "\n",
       "    .dataframe thead th {\n",
       "        text-align: right;\n",
       "    }\n",
       "</style>\n",
       "<table border=\"1\" class=\"dataframe\">\n",
       "  <thead>\n",
       "    <tr style=\"text-align: right;\">\n",
       "      <th></th>\n",
       "      <th>Year_of_Birth</th>\n",
       "      <th>Education_Level</th>\n",
       "      <th>Marital_Status</th>\n",
       "      <th>Disposable_Income</th>\n",
       "      <th>No_of_Kids_in_home</th>\n",
       "      <th>No_of_Teen_in_home</th>\n",
       "      <th>Date_Customer</th>\n",
       "      <th>Recency</th>\n",
       "      <th>Discounted_Purchases</th>\n",
       "      <th>WebPurchases</th>\n",
       "      <th>...</th>\n",
       "      <th>Amount_on_SweetProducts</th>\n",
       "      <th>Amount_on_GoldProds</th>\n",
       "      <th>WebVisitsMonth</th>\n",
       "      <th>Cmp3Accepted</th>\n",
       "      <th>Cmp4Accepted</th>\n",
       "      <th>Cmp5Accepted</th>\n",
       "      <th>Cmp1Accepted</th>\n",
       "      <th>Cmp2Accepted</th>\n",
       "      <th>Any_Complain</th>\n",
       "      <th>Response</th>\n",
       "    </tr>\n",
       "  </thead>\n",
       "  <tbody>\n",
       "    <tr>\n",
       "      <th>0</th>\n",
       "      <td>1955</td>\n",
       "      <td>2</td>\n",
       "      <td>2</td>\n",
       "      <td>77504.4</td>\n",
       "      <td>1</td>\n",
       "      <td>1</td>\n",
       "      <td>2014-06-22</td>\n",
       "      <td>56</td>\n",
       "      <td>2</td>\n",
       "      <td>1</td>\n",
       "      <td>...</td>\n",
       "      <td>6</td>\n",
       "      <td>20</td>\n",
       "      <td>3</td>\n",
       "      <td>0</td>\n",
       "      <td>0</td>\n",
       "      <td>0</td>\n",
       "      <td>0</td>\n",
       "      <td>0</td>\n",
       "      <td>0</td>\n",
       "      <td>0</td>\n",
       "    </tr>\n",
       "    <tr>\n",
       "      <th>1</th>\n",
       "      <td>1958</td>\n",
       "      <td>2</td>\n",
       "      <td>5</td>\n",
       "      <td>56784.0</td>\n",
       "      <td>0</td>\n",
       "      <td>1</td>\n",
       "      <td>2013-01-08</td>\n",
       "      <td>17</td>\n",
       "      <td>6</td>\n",
       "      <td>5</td>\n",
       "      <td>...</td>\n",
       "      <td>15</td>\n",
       "      <td>19</td>\n",
       "      <td>6</td>\n",
       "      <td>0</td>\n",
       "      <td>0</td>\n",
       "      <td>0</td>\n",
       "      <td>0</td>\n",
       "      <td>0</td>\n",
       "      <td>0</td>\n",
       "      <td>0</td>\n",
       "    </tr>\n",
       "    <tr>\n",
       "      <th>2</th>\n",
       "      <td>1962</td>\n",
       "      <td>2</td>\n",
       "      <td>4</td>\n",
       "      <td>103714.8</td>\n",
       "      <td>0</td>\n",
       "      <td>0</td>\n",
       "      <td>2013-11-21</td>\n",
       "      <td>17</td>\n",
       "      <td>0</td>\n",
       "      <td>7</td>\n",
       "      <td>...</td>\n",
       "      <td>18</td>\n",
       "      <td>37</td>\n",
       "      <td>2</td>\n",
       "      <td>0</td>\n",
       "      <td>0</td>\n",
       "      <td>0</td>\n",
       "      <td>1</td>\n",
       "      <td>0</td>\n",
       "      <td>0</td>\n",
       "      <td>1</td>\n",
       "    </tr>\n",
       "    <tr>\n",
       "      <th>3</th>\n",
       "      <td>1979</td>\n",
       "      <td>0</td>\n",
       "      <td>4</td>\n",
       "      <td>46311.6</td>\n",
       "      <td>1</td>\n",
       "      <td>0</td>\n",
       "      <td>2013-09-13</td>\n",
       "      <td>49</td>\n",
       "      <td>3</td>\n",
       "      <td>4</td>\n",
       "      <td>...</td>\n",
       "      <td>24</td>\n",
       "      <td>24</td>\n",
       "      <td>8</td>\n",
       "      <td>0</td>\n",
       "      <td>0</td>\n",
       "      <td>0</td>\n",
       "      <td>0</td>\n",
       "      <td>0</td>\n",
       "      <td>0</td>\n",
       "      <td>0</td>\n",
       "    </tr>\n",
       "    <tr>\n",
       "      <th>4</th>\n",
       "      <td>1959</td>\n",
       "      <td>2</td>\n",
       "      <td>3</td>\n",
       "      <td>87486.0</td>\n",
       "      <td>0</td>\n",
       "      <td>0</td>\n",
       "      <td>2014-01-21</td>\n",
       "      <td>59</td>\n",
       "      <td>1</td>\n",
       "      <td>3</td>\n",
       "      <td>...</td>\n",
       "      <td>165</td>\n",
       "      <td>203</td>\n",
       "      <td>1</td>\n",
       "      <td>0</td>\n",
       "      <td>0</td>\n",
       "      <td>0</td>\n",
       "      <td>1</td>\n",
       "      <td>0</td>\n",
       "      <td>0</td>\n",
       "      <td>0</td>\n",
       "    </tr>\n",
       "  </tbody>\n",
       "</table>\n",
       "<p>5 rows × 26 columns</p>\n",
       "</div>"
      ],
      "text/plain": [
       "   Year_of_Birth  Education_Level  Marital_Status  Disposable_Income  \\\n",
       "0           1955                2               2            77504.4   \n",
       "1           1958                2               5            56784.0   \n",
       "2           1962                2               4           103714.8   \n",
       "3           1979                0               4            46311.6   \n",
       "4           1959                2               3            87486.0   \n",
       "\n",
       "   No_of_Kids_in_home  No_of_Teen_in_home Date_Customer  Recency  \\\n",
       "0                   1                   1    2014-06-22       56   \n",
       "1                   0                   1    2013-01-08       17   \n",
       "2                   0                   0    2013-11-21       17   \n",
       "3                   1                   0    2013-09-13       49   \n",
       "4                   0                   0    2014-01-21       59   \n",
       "\n",
       "   Discounted_Purchases  WebPurchases  ...  Amount_on_SweetProducts  \\\n",
       "0                     2             1  ...                        6   \n",
       "1                     6             5  ...                       15   \n",
       "2                     0             7  ...                       18   \n",
       "3                     3             4  ...                       24   \n",
       "4                     1             3  ...                      165   \n",
       "\n",
       "   Amount_on_GoldProds  WebVisitsMonth  Cmp3Accepted  Cmp4Accepted  \\\n",
       "0                   20               3             0             0   \n",
       "1                   19               6             0             0   \n",
       "2                   37               2             0             0   \n",
       "3                   24               8             0             0   \n",
       "4                  203               1             0             0   \n",
       "\n",
       "   Cmp5Accepted  Cmp1Accepted  Cmp2Accepted  Any_Complain  Response  \n",
       "0             0             0             0             0         0  \n",
       "1             0             0             0             0         0  \n",
       "2             0             1             0             0         1  \n",
       "3             0             0             0             0         0  \n",
       "4             0             1             0             0         0  \n",
       "\n",
       "[5 rows x 26 columns]"
      ]
     },
     "execution_count": 20,
     "metadata": {},
     "output_type": "execute_result"
    }
   ],
   "source": [
    "from sklearn.preprocessing import LabelEncoder,OneHotEncoder # for encoding categorical variables\n",
    "\n",
    "# label encoding \n",
    "le = LabelEncoder()\n",
    "for i in categ_cols:\n",
    "  train[i] = le.fit_transform(train[i])\n",
    "  test[i] = le.fit_transform(test[i])\n",
    "train.head()"
   ]
  },
  {
   "cell_type": "markdown",
   "metadata": {},
   "source": [
    "## Transform date to days from year-end of last year"
   ]
  },
  {
   "cell_type": "code",
   "execution_count": 21,
   "metadata": {
    "execution": {
     "iopub.execute_input": "2021-10-14T13:35:08.008461Z",
     "iopub.status.busy": "2021-10-14T13:35:08.008136Z",
     "iopub.status.idle": "2021-10-14T13:35:08.014269Z",
     "shell.execute_reply": "2021-10-14T13:35:08.013251Z",
     "shell.execute_reply.started": "2021-10-14T13:35:08.008423Z"
    }
   },
   "outputs": [],
   "source": [
    "def days_on_platform(d1):\n",
    "    \"\"\"\n",
    "    Function to find the number of days on the platform, given a particular reference date.\n",
    "    Reference date is hardcoded here for convenience and consistency.\n",
    "    \"\"\"\n",
    "    ref = \"2021-10-01\" #change this date to the beginning of the competition\n",
    "    ref = dt.datetime.strptime(ref, \"%Y-%m-%d\")\n",
    "    d1 = dt.datetime.strptime(str(d1), \"%Y-%m-%d %H:%M:%S\")\n",
    "    return ((ref-d1).days)"
   ]
  },
  {
   "cell_type": "code",
   "execution_count": 22,
   "metadata": {
    "execution": {
     "iopub.execute_input": "2021-10-14T13:35:08.016309Z",
     "iopub.status.busy": "2021-10-14T13:35:08.015742Z",
     "iopub.status.idle": "2021-10-14T13:35:08.025091Z",
     "shell.execute_reply": "2021-10-14T13:35:08.024326Z",
     "shell.execute_reply.started": "2021-10-14T13:35:08.01627Z"
    }
   },
   "outputs": [],
   "source": [
    "def weeks_on_platform(d1):\n",
    "    \"\"\"\n",
    "    Function to find the number of days on the platform, given a particular reference date.\n",
    "    Reference date is hardcoded here for convenience and consistency.\n",
    "    \"\"\"\n",
    "    ref = \"2021-10-01\" #change this date to the beginning of the competition\n",
    "    ref = dt.datetime.strptime(ref, \"%Y-%m-%d\")\n",
    "    d1 = dt.datetime.strptime(str(d1), \"%Y-%m-%d %H:%M:%S\")\n",
    "    return ((ref-d1).days)//7"
   ]
  },
  {
   "cell_type": "code",
   "execution_count": 23,
   "metadata": {
    "execution": {
     "iopub.execute_input": "2021-10-14T13:35:08.027591Z",
     "iopub.status.busy": "2021-10-14T13:35:08.027379Z",
     "iopub.status.idle": "2021-10-14T13:35:08.119508Z",
     "shell.execute_reply": "2021-10-14T13:35:08.118887Z",
     "shell.execute_reply.started": "2021-10-14T13:35:08.027569Z"
    }
   },
   "outputs": [
    {
     "data": {
      "text/plain": [
       "0    413\n",
       "1    462\n",
       "2    448\n",
       "3    424\n",
       "4    427\n",
       "Name: Date_Customer, dtype: int64"
      ]
     },
     "execution_count": 23,
     "metadata": {},
     "output_type": "execute_result"
    }
   ],
   "source": [
    "import datetime as dt\n",
    "train[\"Date_Customer\"] = train[\"Date_Customer\"].apply(lambda x: weeks_on_platform(x))\n",
    "test[\"Date_Customer\"] = test[\"Date_Customer\"].apply(lambda x: weeks_on_platform(x))\n",
    "test[\"Date_Customer\"].head()"
   ]
  },
  {
   "cell_type": "code",
   "execution_count": 24,
   "metadata": {
    "execution": {
     "iopub.execute_input": "2021-10-14T13:35:08.120901Z",
     "iopub.status.busy": "2021-10-14T13:35:08.120672Z",
     "iopub.status.idle": "2021-10-14T13:35:08.187827Z",
     "shell.execute_reply": "2021-10-14T13:35:08.186955Z",
     "shell.execute_reply.started": "2021-10-14T13:35:08.120875Z"
    }
   },
   "outputs": [
    {
     "data": {
      "text/html": [
       "<div>\n",
       "<style scoped>\n",
       "    .dataframe tbody tr th:only-of-type {\n",
       "        vertical-align: middle;\n",
       "    }\n",
       "\n",
       "    .dataframe tbody tr th {\n",
       "        vertical-align: top;\n",
       "    }\n",
       "\n",
       "    .dataframe thead th {\n",
       "        text-align: right;\n",
       "    }\n",
       "</style>\n",
       "<table border=\"1\" class=\"dataframe\">\n",
       "  <thead>\n",
       "    <tr style=\"text-align: right;\">\n",
       "      <th></th>\n",
       "      <th>Year_of_Birth</th>\n",
       "      <th>Education_Level</th>\n",
       "      <th>Marital_Status</th>\n",
       "      <th>Disposable_Income</th>\n",
       "      <th>No_of_Kids_in_home</th>\n",
       "      <th>No_of_Teen_in_home</th>\n",
       "      <th>Date_Customer</th>\n",
       "      <th>Recency</th>\n",
       "      <th>Discounted_Purchases</th>\n",
       "      <th>WebPurchases</th>\n",
       "      <th>...</th>\n",
       "      <th>Amount_on_FishProducts</th>\n",
       "      <th>Amount_on_SweetProducts</th>\n",
       "      <th>Amount_on_GoldProds</th>\n",
       "      <th>WebVisitsMonth</th>\n",
       "      <th>Cmp3Accepted</th>\n",
       "      <th>Cmp4Accepted</th>\n",
       "      <th>Cmp5Accepted</th>\n",
       "      <th>Cmp1Accepted</th>\n",
       "      <th>Cmp2Accepted</th>\n",
       "      <th>Any_Complain</th>\n",
       "    </tr>\n",
       "  </thead>\n",
       "  <tbody>\n",
       "    <tr>\n",
       "      <th>count</th>\n",
       "      <td>672.000000</td>\n",
       "      <td>672.000000</td>\n",
       "      <td>672.000000</td>\n",
       "      <td>672.000000</td>\n",
       "      <td>672.000000</td>\n",
       "      <td>672.000000</td>\n",
       "      <td>672.000000</td>\n",
       "      <td>672.000000</td>\n",
       "      <td>672.000000</td>\n",
       "      <td>672.000000</td>\n",
       "      <td>...</td>\n",
       "      <td>672.000000</td>\n",
       "      <td>672.000000</td>\n",
       "      <td>672.000000</td>\n",
       "      <td>672.000000</td>\n",
       "      <td>672.000000</td>\n",
       "      <td>672.000000</td>\n",
       "      <td>672.000000</td>\n",
       "      <td>672.000000</td>\n",
       "      <td>672.000000</td>\n",
       "      <td>672.000000</td>\n",
       "    </tr>\n",
       "    <tr>\n",
       "      <th>mean</th>\n",
       "      <td>1969.181548</td>\n",
       "      <td>2.413690</td>\n",
       "      <td>2.742560</td>\n",
       "      <td>63440.994643</td>\n",
       "      <td>0.406250</td>\n",
       "      <td>0.526786</td>\n",
       "      <td>428.037202</td>\n",
       "      <td>57.744048</td>\n",
       "      <td>2.400298</td>\n",
       "      <td>4.279762</td>\n",
       "      <td>...</td>\n",
       "      <td>38.363095</td>\n",
       "      <td>27.675595</td>\n",
       "      <td>44.681548</td>\n",
       "      <td>5.293155</td>\n",
       "      <td>0.072917</td>\n",
       "      <td>0.078869</td>\n",
       "      <td>0.055060</td>\n",
       "      <td>0.063988</td>\n",
       "      <td>0.014881</td>\n",
       "      <td>0.011905</td>\n",
       "    </tr>\n",
       "    <tr>\n",
       "      <th>std</th>\n",
       "      <td>12.116416</td>\n",
       "      <td>1.127488</td>\n",
       "      <td>1.081247</td>\n",
       "      <td>25125.530599</td>\n",
       "      <td>0.532259</td>\n",
       "      <td>0.545293</td>\n",
       "      <td>32.882079</td>\n",
       "      <td>29.321893</td>\n",
       "      <td>1.919125</td>\n",
       "      <td>2.782585</td>\n",
       "      <td>...</td>\n",
       "      <td>56.112424</td>\n",
       "      <td>42.275184</td>\n",
       "      <td>53.520249</td>\n",
       "      <td>2.328867</td>\n",
       "      <td>0.260193</td>\n",
       "      <td>0.269735</td>\n",
       "      <td>0.228266</td>\n",
       "      <td>0.244914</td>\n",
       "      <td>0.121167</td>\n",
       "      <td>0.108538</td>\n",
       "    </tr>\n",
       "    <tr>\n",
       "      <th>min</th>\n",
       "      <td>1894.000000</td>\n",
       "      <td>0.000000</td>\n",
       "      <td>0.000000</td>\n",
       "      <td>5313.600000</td>\n",
       "      <td>0.000000</td>\n",
       "      <td>0.000000</td>\n",
       "      <td>355.000000</td>\n",
       "      <td>7.000000</td>\n",
       "      <td>0.000000</td>\n",
       "      <td>0.000000</td>\n",
       "      <td>...</td>\n",
       "      <td>0.000000</td>\n",
       "      <td>0.000000</td>\n",
       "      <td>0.000000</td>\n",
       "      <td>0.000000</td>\n",
       "      <td>0.000000</td>\n",
       "      <td>0.000000</td>\n",
       "      <td>0.000000</td>\n",
       "      <td>0.000000</td>\n",
       "      <td>0.000000</td>\n",
       "      <td>0.000000</td>\n",
       "    </tr>\n",
       "    <tr>\n",
       "      <th>25%</th>\n",
       "      <td>1960.000000</td>\n",
       "      <td>2.000000</td>\n",
       "      <td>2.000000</td>\n",
       "      <td>44376.300000</td>\n",
       "      <td>0.000000</td>\n",
       "      <td>0.000000</td>\n",
       "      <td>404.000000</td>\n",
       "      <td>33.000000</td>\n",
       "      <td>1.000000</td>\n",
       "      <td>2.000000</td>\n",
       "      <td>...</td>\n",
       "      <td>2.750000</td>\n",
       "      <td>2.000000</td>\n",
       "      <td>10.000000</td>\n",
       "      <td>4.000000</td>\n",
       "      <td>0.000000</td>\n",
       "      <td>0.000000</td>\n",
       "      <td>0.000000</td>\n",
       "      <td>0.000000</td>\n",
       "      <td>0.000000</td>\n",
       "      <td>0.000000</td>\n",
       "    </tr>\n",
       "    <tr>\n",
       "      <th>50%</th>\n",
       "      <td>1970.000000</td>\n",
       "      <td>2.000000</td>\n",
       "      <td>3.000000</td>\n",
       "      <td>64007.400000</td>\n",
       "      <td>0.000000</td>\n",
       "      <td>1.000000</td>\n",
       "      <td>427.000000</td>\n",
       "      <td>58.000000</td>\n",
       "      <td>2.000000</td>\n",
       "      <td>4.000000</td>\n",
       "      <td>...</td>\n",
       "      <td>11.000000</td>\n",
       "      <td>9.000000</td>\n",
       "      <td>24.000000</td>\n",
       "      <td>6.000000</td>\n",
       "      <td>0.000000</td>\n",
       "      <td>0.000000</td>\n",
       "      <td>0.000000</td>\n",
       "      <td>0.000000</td>\n",
       "      <td>0.000000</td>\n",
       "      <td>0.000000</td>\n",
       "    </tr>\n",
       "    <tr>\n",
       "      <th>75%</th>\n",
       "      <td>1978.000000</td>\n",
       "      <td>3.000000</td>\n",
       "      <td>4.000000</td>\n",
       "      <td>83207.100000</td>\n",
       "      <td>1.000000</td>\n",
       "      <td>1.000000</td>\n",
       "      <td>453.000000</td>\n",
       "      <td>84.000000</td>\n",
       "      <td>3.000000</td>\n",
       "      <td>6.000000</td>\n",
       "      <td>...</td>\n",
       "      <td>50.000000</td>\n",
       "      <td>33.250000</td>\n",
       "      <td>56.000000</td>\n",
       "      <td>7.000000</td>\n",
       "      <td>0.000000</td>\n",
       "      <td>0.000000</td>\n",
       "      <td>0.000000</td>\n",
       "      <td>0.000000</td>\n",
       "      <td>0.000000</td>\n",
       "      <td>0.000000</td>\n",
       "    </tr>\n",
       "    <tr>\n",
       "      <th>max</th>\n",
       "      <td>1997.000000</td>\n",
       "      <td>4.000000</td>\n",
       "      <td>5.000000</td>\n",
       "      <td>194876.400000</td>\n",
       "      <td>2.000000</td>\n",
       "      <td>2.000000</td>\n",
       "      <td>507.000000</td>\n",
       "      <td>106.000000</td>\n",
       "      <td>15.000000</td>\n",
       "      <td>25.000000</td>\n",
       "      <td>...</td>\n",
       "      <td>250.000000</td>\n",
       "      <td>198.000000</td>\n",
       "      <td>321.000000</td>\n",
       "      <td>14.000000</td>\n",
       "      <td>1.000000</td>\n",
       "      <td>1.000000</td>\n",
       "      <td>1.000000</td>\n",
       "      <td>1.000000</td>\n",
       "      <td>1.000000</td>\n",
       "      <td>1.000000</td>\n",
       "    </tr>\n",
       "  </tbody>\n",
       "</table>\n",
       "<p>8 rows × 25 columns</p>\n",
       "</div>"
      ],
      "text/plain": [
       "       Year_of_Birth  Education_Level  Marital_Status  Disposable_Income  \\\n",
       "count     672.000000       672.000000      672.000000         672.000000   \n",
       "mean     1969.181548         2.413690        2.742560       63440.994643   \n",
       "std        12.116416         1.127488        1.081247       25125.530599   \n",
       "min      1894.000000         0.000000        0.000000        5313.600000   \n",
       "25%      1960.000000         2.000000        2.000000       44376.300000   \n",
       "50%      1970.000000         2.000000        3.000000       64007.400000   \n",
       "75%      1978.000000         3.000000        4.000000       83207.100000   \n",
       "max      1997.000000         4.000000        5.000000      194876.400000   \n",
       "\n",
       "       No_of_Kids_in_home  No_of_Teen_in_home  Date_Customer     Recency  \\\n",
       "count          672.000000          672.000000     672.000000  672.000000   \n",
       "mean             0.406250            0.526786     428.037202   57.744048   \n",
       "std              0.532259            0.545293      32.882079   29.321893   \n",
       "min              0.000000            0.000000     355.000000    7.000000   \n",
       "25%              0.000000            0.000000     404.000000   33.000000   \n",
       "50%              0.000000            1.000000     427.000000   58.000000   \n",
       "75%              1.000000            1.000000     453.000000   84.000000   \n",
       "max              2.000000            2.000000     507.000000  106.000000   \n",
       "\n",
       "       Discounted_Purchases  WebPurchases  ...  Amount_on_FishProducts  \\\n",
       "count            672.000000    672.000000  ...              672.000000   \n",
       "mean               2.400298      4.279762  ...               38.363095   \n",
       "std                1.919125      2.782585  ...               56.112424   \n",
       "min                0.000000      0.000000  ...                0.000000   \n",
       "25%                1.000000      2.000000  ...                2.750000   \n",
       "50%                2.000000      4.000000  ...               11.000000   \n",
       "75%                3.000000      6.000000  ...               50.000000   \n",
       "max               15.000000     25.000000  ...              250.000000   \n",
       "\n",
       "       Amount_on_SweetProducts  Amount_on_GoldProds  WebVisitsMonth  \\\n",
       "count               672.000000           672.000000      672.000000   \n",
       "mean                 27.675595            44.681548        5.293155   \n",
       "std                  42.275184            53.520249        2.328867   \n",
       "min                   0.000000             0.000000        0.000000   \n",
       "25%                   2.000000            10.000000        4.000000   \n",
       "50%                   9.000000            24.000000        6.000000   \n",
       "75%                  33.250000            56.000000        7.000000   \n",
       "max                 198.000000           321.000000       14.000000   \n",
       "\n",
       "       Cmp3Accepted  Cmp4Accepted  Cmp5Accepted  Cmp1Accepted  Cmp2Accepted  \\\n",
       "count    672.000000    672.000000    672.000000    672.000000    672.000000   \n",
       "mean       0.072917      0.078869      0.055060      0.063988      0.014881   \n",
       "std        0.260193      0.269735      0.228266      0.244914      0.121167   \n",
       "min        0.000000      0.000000      0.000000      0.000000      0.000000   \n",
       "25%        0.000000      0.000000      0.000000      0.000000      0.000000   \n",
       "50%        0.000000      0.000000      0.000000      0.000000      0.000000   \n",
       "75%        0.000000      0.000000      0.000000      0.000000      0.000000   \n",
       "max        1.000000      1.000000      1.000000      1.000000      1.000000   \n",
       "\n",
       "       Any_Complain  \n",
       "count    672.000000  \n",
       "mean       0.011905  \n",
       "std        0.108538  \n",
       "min        0.000000  \n",
       "25%        0.000000  \n",
       "50%        0.000000  \n",
       "75%        0.000000  \n",
       "max        1.000000  \n",
       "\n",
       "[8 rows x 25 columns]"
      ]
     },
     "execution_count": 24,
     "metadata": {},
     "output_type": "execute_result"
    }
   ],
   "source": [
    "test.describe()"
   ]
  },
  {
   "cell_type": "code",
   "execution_count": 25,
   "metadata": {},
   "outputs": [
    {
     "data": {
      "text/plain": [
       "'0.7.0'"
      ]
     },
     "execution_count": 25,
     "metadata": {},
     "output_type": "execute_result"
    }
   ],
   "source": [
    "import imblearn\n",
    "\n",
    "imblearn.__version__"
   ]
  },
  {
   "cell_type": "markdown",
   "metadata": {},
   "source": [
    "# Modeling"
   ]
  },
  {
   "cell_type": "code",
   "execution_count": 26,
   "metadata": {
    "execution": {
     "iopub.execute_input": "2021-10-14T13:35:08.189634Z",
     "iopub.status.busy": "2021-10-14T13:35:08.189311Z",
     "iopub.status.idle": "2021-10-14T13:35:08.195827Z",
     "shell.execute_reply": "2021-10-14T13:35:08.194823Z",
     "shell.execute_reply.started": "2021-10-14T13:35:08.189594Z"
    }
   },
   "outputs": [],
   "source": [
    "#Split into X and y\n",
    "X = train.drop('Response', axis=1)\n",
    "y = train.Response"
   ]
  },
  {
   "cell_type": "code",
   "execution_count": 28,
   "metadata": {},
   "outputs": [
    {
     "name": "stdout",
     "output_type": "stream",
     "text": [
      "Counter({0: 1329, 1: 239})\n"
     ]
    }
   ],
   "source": [
    "from collections import Counter\n",
    "counter = Counter(y)\n",
    "print(counter)"
   ]
  },
  {
   "cell_type": "code",
   "execution_count": 32,
   "metadata": {
    "scrolled": true
   },
   "outputs": [
    {
     "ename": "AttributeError",
     "evalue": "'SMOTE' object has no attribute '_validate_data'",
     "output_type": "error",
     "traceback": [
      "\u001b[1;31m---------------------------------------------------------------------------\u001b[0m",
      "\u001b[1;31mAttributeError\u001b[0m                            Traceback (most recent call last)",
      "\u001b[1;32m<ipython-input-32-99bb629e4ac1>\u001b[0m in \u001b[0;36m<module>\u001b[1;34m\u001b[0m\n\u001b[0;32m      2\u001b[0m \u001b[1;31m# transform the dataset\u001b[0m\u001b[1;33m\u001b[0m\u001b[1;33m\u001b[0m\u001b[1;33m\u001b[0m\u001b[0m\n\u001b[0;32m      3\u001b[0m \u001b[0moversample\u001b[0m \u001b[1;33m=\u001b[0m \u001b[0mSMOTE\u001b[0m\u001b[1;33m(\u001b[0m\u001b[1;33m)\u001b[0m\u001b[1;33m\u001b[0m\u001b[1;33m\u001b[0m\u001b[0m\n\u001b[1;32m----> 4\u001b[1;33m \u001b[0mX\u001b[0m\u001b[1;33m,\u001b[0m \u001b[0my\u001b[0m \u001b[1;33m=\u001b[0m \u001b[0moversample\u001b[0m\u001b[1;33m.\u001b[0m\u001b[0mfit_resample\u001b[0m\u001b[1;33m(\u001b[0m\u001b[0mX\u001b[0m\u001b[1;33m,\u001b[0m \u001b[0my\u001b[0m\u001b[1;33m)\u001b[0m\u001b[1;33m\u001b[0m\u001b[1;33m\u001b[0m\u001b[0m\n\u001b[0m\u001b[0;32m      5\u001b[0m \u001b[1;33m\u001b[0m\u001b[0m\n\u001b[0;32m      6\u001b[0m \u001b[1;31m# scatter plot of examples by class label\u001b[0m\u001b[1;33m\u001b[0m\u001b[1;33m\u001b[0m\u001b[1;33m\u001b[0m\u001b[0m\n",
      "\u001b[1;32m~\\anaconda3\\lib\\site-packages\\imblearn\\base.py\u001b[0m in \u001b[0;36mfit_resample\u001b[1;34m(self, X, y)\u001b[0m\n\u001b[0;32m     75\u001b[0m         \u001b[0mcheck_classification_targets\u001b[0m\u001b[1;33m(\u001b[0m\u001b[0my\u001b[0m\u001b[1;33m)\u001b[0m\u001b[1;33m\u001b[0m\u001b[1;33m\u001b[0m\u001b[0m\n\u001b[0;32m     76\u001b[0m         \u001b[0marrays_transformer\u001b[0m \u001b[1;33m=\u001b[0m \u001b[0mArraysTransformer\u001b[0m\u001b[1;33m(\u001b[0m\u001b[0mX\u001b[0m\u001b[1;33m,\u001b[0m \u001b[0my\u001b[0m\u001b[1;33m)\u001b[0m\u001b[1;33m\u001b[0m\u001b[1;33m\u001b[0m\u001b[0m\n\u001b[1;32m---> 77\u001b[1;33m         \u001b[0mX\u001b[0m\u001b[1;33m,\u001b[0m \u001b[0my\u001b[0m\u001b[1;33m,\u001b[0m \u001b[0mbinarize_y\u001b[0m \u001b[1;33m=\u001b[0m \u001b[0mself\u001b[0m\u001b[1;33m.\u001b[0m\u001b[0m_check_X_y\u001b[0m\u001b[1;33m(\u001b[0m\u001b[0mX\u001b[0m\u001b[1;33m,\u001b[0m \u001b[0my\u001b[0m\u001b[1;33m)\u001b[0m\u001b[1;33m\u001b[0m\u001b[1;33m\u001b[0m\u001b[0m\n\u001b[0m\u001b[0;32m     78\u001b[0m \u001b[1;33m\u001b[0m\u001b[0m\n\u001b[0;32m     79\u001b[0m         self.sampling_strategy_ = check_sampling_strategy(\n",
      "\u001b[1;32m~\\anaconda3\\lib\\site-packages\\imblearn\\base.py\u001b[0m in \u001b[0;36m_check_X_y\u001b[1;34m(self, X, y, accept_sparse)\u001b[0m\n\u001b[0;32m    132\u001b[0m             \u001b[0maccept_sparse\u001b[0m \u001b[1;33m=\u001b[0m \u001b[1;33m[\u001b[0m\u001b[1;34m\"csr\"\u001b[0m\u001b[1;33m,\u001b[0m \u001b[1;34m\"csc\"\u001b[0m\u001b[1;33m]\u001b[0m\u001b[1;33m\u001b[0m\u001b[1;33m\u001b[0m\u001b[0m\n\u001b[0;32m    133\u001b[0m         \u001b[0my\u001b[0m\u001b[1;33m,\u001b[0m \u001b[0mbinarize_y\u001b[0m \u001b[1;33m=\u001b[0m \u001b[0mcheck_target_type\u001b[0m\u001b[1;33m(\u001b[0m\u001b[0my\u001b[0m\u001b[1;33m,\u001b[0m \u001b[0mindicate_one_vs_all\u001b[0m\u001b[1;33m=\u001b[0m\u001b[1;32mTrue\u001b[0m\u001b[1;33m)\u001b[0m\u001b[1;33m\u001b[0m\u001b[1;33m\u001b[0m\u001b[0m\n\u001b[1;32m--> 134\u001b[1;33m         X, y = self._validate_data(\n\u001b[0m\u001b[0;32m    135\u001b[0m             \u001b[0mX\u001b[0m\u001b[1;33m,\u001b[0m \u001b[0my\u001b[0m\u001b[1;33m,\u001b[0m \u001b[0mreset\u001b[0m\u001b[1;33m=\u001b[0m\u001b[1;32mTrue\u001b[0m\u001b[1;33m,\u001b[0m \u001b[0maccept_sparse\u001b[0m\u001b[1;33m=\u001b[0m\u001b[0maccept_sparse\u001b[0m\u001b[1;33m\u001b[0m\u001b[1;33m\u001b[0m\u001b[0m\n\u001b[0;32m    136\u001b[0m         )\n",
      "\u001b[1;31mAttributeError\u001b[0m: 'SMOTE' object has no attribute '_validate_data'"
     ]
    }
   ],
   "source": [
    "\n",
    "from imblearn.over_sampling import SMOTE\n",
    "# transform the dataset\n",
    "oversample = SMOTE()\n",
    "X, y = oversample.fit_resample(X, y)\n",
    "\n",
    "# scatter plot of examples by class label\n",
    "from numpy import where\n",
    "import matplotlib.pyplot as plt\n",
    "\n",
    "for label, _ in counter.items():\n",
    "    row_ix = where(y==label)[0]\n",
    "    plt.scatter(X[row_ix, 0], X[row_ix, 1], label=str(label))\n",
    "plt.legend()\n",
    "plt.show()"
   ]
  },
  {
   "cell_type": "code",
   "execution_count": null,
   "metadata": {},
   "outputs": [],
   "source": []
  },
  {
   "cell_type": "code",
   "execution_count": 36,
   "metadata": {},
   "outputs": [
    {
     "name": "stdout",
     "output_type": "stream",
     "text": [
      "Mean ROC AUC: \n",
      "  [nan nan nan nan nan nan nan nan nan nan nan nan nan nan nan nan nan nan\n",
      " nan nan nan nan nan nan nan nan nan nan nan nan]\n"
     ]
    }
   ],
   "source": [
    "# decision tree  on imbalanced dataset with SMOTE oversampling and random undersampling\n",
    "from sklearn.model_selection import cross_val_score\n",
    "from sklearn.model_selection import RepeatedStratifiedKFold\n",
    "from sklearn.tree import DecisionTreeClassifier\n",
    "from imblearn.pipeline import Pipeline\n",
    "from imblearn.over_sampling import SMOTE\n",
    "from imblearn.under_sampling import RandomUnderSampler\n",
    "\n",
    "# define pipeline\n",
    "model = DecisionTreeClassifier()\n",
    "over = SMOTE(sampling_strategy=0.1)\n",
    "under = RandomUnderSampler(sampling_strategy=0.5)\n",
    "steps = [('over', over), ('under', under), ('model', model)]\n",
    "pipeline = Pipeline(steps=steps)\n",
    "# evaluate pipeline\n",
    "cv = RepeatedStratifiedKFold(n_splits=10, n_repeats=3, random_state=1)\n",
    "scores = cross_val_score(pipeline, X, y, scoring='roc_auc', cv=cv, n_jobs=-1)\n",
    "print('Mean ROC AUC: \\n ', scores)\n"
   ]
  },
  {
   "cell_type": "code",
   "execution_count": null,
   "metadata": {},
   "outputs": [],
   "source": []
  },
  {
   "cell_type": "code",
   "execution_count": null,
   "metadata": {},
   "outputs": [],
   "source": []
  },
  {
   "cell_type": "code",
   "execution_count": null,
   "metadata": {
    "execution": {
     "iopub.execute_input": "2021-10-14T13:35:08.197965Z",
     "iopub.status.busy": "2021-10-14T13:35:08.197635Z",
     "iopub.status.idle": "2021-10-14T13:35:08.245237Z",
     "shell.execute_reply": "2021-10-14T13:35:08.244594Z",
     "shell.execute_reply.started": "2021-10-14T13:35:08.197932Z"
    }
   },
   "outputs": [],
   "source": [
    "from sklearn.model_selection import train_test_split\n",
    "#Split into train and test set\n",
    "X_train, X_test, y_train, y_test = train_test_split(X, y, test_size=0.2, random_state=42)"
   ]
  },
  {
   "cell_type": "markdown",
   "metadata": {},
   "source": [
    "## LGBM"
   ]
  },
  {
   "cell_type": "code",
   "execution_count": null,
   "metadata": {
    "execution": {
     "iopub.execute_input": "2021-10-14T13:35:08.246781Z",
     "iopub.status.busy": "2021-10-14T13:35:08.246523Z",
     "iopub.status.idle": "2021-10-14T13:35:10.692842Z",
     "shell.execute_reply": "2021-10-14T13:35:10.692086Z",
     "shell.execute_reply.started": "2021-10-14T13:35:08.246749Z"
    }
   },
   "outputs": [],
   "source": [
    "import lightgbm as lgb #install this library using pip install lgbm if you don't have it \n",
    "from catboost import CatBoostClassifier #Install this Library using pip install catboost, before importing if you don't have it \n",
    "from xgboost import XGBClassifier"
   ]
  },
  {
   "cell_type": "code",
   "execution_count": null,
   "metadata": {
    "execution": {
     "iopub.execute_input": "2021-10-14T13:35:10.695024Z",
     "iopub.status.busy": "2021-10-14T13:35:10.694003Z",
     "iopub.status.idle": "2021-10-14T13:35:10.698541Z",
     "shell.execute_reply": "2021-10-14T13:35:10.697839Z",
     "shell.execute_reply.started": "2021-10-14T13:35:10.694993Z"
    }
   },
   "outputs": [],
   "source": [
    "from sklearn.metrics import accuracy_score, f1_score, roc_auc_score, roc_curve"
   ]
  },
  {
   "cell_type": "code",
   "execution_count": null,
   "metadata": {
    "execution": {
     "iopub.execute_input": "2021-10-14T13:35:10.700611Z",
     "iopub.status.busy": "2021-10-14T13:35:10.699722Z",
     "iopub.status.idle": "2021-10-14T13:35:10.816746Z",
     "shell.execute_reply": "2021-10-14T13:35:10.816191Z",
     "shell.execute_reply.started": "2021-10-14T13:35:10.700575Z"
    }
   },
   "outputs": [],
   "source": [
    "#drop Date_Customer\n",
    "# X_train = X_train.drop('Date_Customer', axis=1)\n",
    "# X_test = X_test.drop('Date_Customer', axis=1)\n",
    "# test = test.drop('Date_Customer', axis=1)\n",
    "\n",
    "#Creating model \n",
    "lgb_model=lgb.LGBMClassifier(random_seed=42, max_depth=7)\n",
    "\n",
    "#Training Catboost Model on train set\n",
    "lgb_model.fit(X_train,y_train)\n",
    "\n",
    "#Predictiing on Test Set\n",
    "y_pred_lgb=lgb_model.predict(X_test)\n",
    "\n",
    "#Evaluating model using f1_score\n",
    "print(\"LightGBM F1 score on validation set is : \",f1_score(y_test,y_pred_lgb))"
   ]
  },
  {
   "cell_type": "code",
   "execution_count": null,
   "metadata": {
    "execution": {
     "iopub.execute_input": "2021-10-14T13:35:10.821358Z",
     "iopub.status.busy": "2021-10-14T13:35:10.819849Z",
     "iopub.status.idle": "2021-10-14T13:35:10.831199Z",
     "shell.execute_reply": "2021-10-14T13:35:10.830502Z",
     "shell.execute_reply.started": "2021-10-14T13:35:10.821328Z"
    }
   },
   "outputs": [],
   "source": [
    "#Now Predict on Test set\n",
    "lgb_preds = lgb_model.predict(test)"
   ]
  },
  {
   "cell_type": "code",
   "execution_count": null,
   "metadata": {
    "execution": {
     "iopub.execute_input": "2021-10-14T13:35:10.835955Z",
     "iopub.status.busy": "2021-10-14T13:35:10.834336Z",
     "iopub.status.idle": "2021-10-14T13:35:10.847748Z",
     "shell.execute_reply": "2021-10-14T13:35:10.847027Z",
     "shell.execute_reply.started": "2021-10-14T13:35:10.835921Z"
    }
   },
   "outputs": [],
   "source": [
    "#Save prediction to submission file created earlier\n",
    "sub_file.Response = lgb_preds\n",
    "sub_file.head()"
   ]
  },
  {
   "cell_type": "code",
   "execution_count": null,
   "metadata": {
    "execution": {
     "iopub.execute_input": "2021-10-14T13:35:10.849478Z",
     "iopub.status.busy": "2021-10-14T13:35:10.848914Z",
     "iopub.status.idle": "2021-10-14T13:35:10.85821Z",
     "shell.execute_reply": "2021-10-14T13:35:10.857606Z",
     "shell.execute_reply.started": "2021-10-14T13:35:10.849442Z"
    }
   },
   "outputs": [],
   "source": [
    "#Save to Csv for submission\n",
    "sub_file.to_csv('lgbm1010_median-9-7depth.csv', index=False)"
   ]
  },
  {
   "cell_type": "markdown",
   "metadata": {},
   "source": [
    "### MORE"
   ]
  },
  {
   "cell_type": "code",
   "execution_count": null,
   "metadata": {
    "execution": {
     "iopub.execute_input": "2021-10-14T13:35:10.859451Z",
     "iopub.status.busy": "2021-10-14T13:35:10.859209Z",
     "iopub.status.idle": "2021-10-14T13:35:20.54727Z",
     "shell.execute_reply": "2021-10-14T13:35:20.546512Z",
     "shell.execute_reply.started": "2021-10-14T13:35:10.859419Z"
    }
   },
   "outputs": [],
   "source": [
    "from sklearn.ensemble import GradientBoostingClassifier\n",
    "from sklearn.model_selection import cross_val_score\n",
    "from sklearn.model_selection import RepeatedStratifiedKFold\n",
    "from matplotlib import pyplot\n",
    "# define dataset\n",
    "# X, y = make_classification(n_samples=1000, n_features=10, n_informative=5, n_redundant=5, random_state=1)\n",
    "# evaluate the model\n",
    "model = GradientBoostingClassifier()\n",
    "cv = RepeatedStratifiedKFold(n_splits=10, n_repeats=3, random_state=42)\n",
    "n_scores = cross_val_score(model, X_train, y_train, scoring='accuracy', cv=cv, n_jobs=-1, error_score='raise')\n",
    "print('Accuracy: %.3f (%.3f)' % (np.mean(n_scores), np.std(n_scores)))\n",
    "# fit the model on the whole dataset\n",
    "model = GradientBoostingClassifier()\n",
    "model.fit(X_train, y_train)\n",
    "# make a single prediction\n",
    "# row = [[2.56999479, -0.13019997, 3.16075093, -4.35936352, -1.61271951, -1.39352057, -2.48924933, -1.93094078, 3.26130366, 2.05692145]]\n",
    "yhat = model.predict(X_test)\n",
    "print('Prediction: %d' % yhat[0])\n",
    "yhat[:5]"
   ]
  },
  {
   "cell_type": "code",
   "execution_count": null,
   "metadata": {
    "execution": {
     "iopub.execute_input": "2021-10-14T13:35:20.549216Z",
     "iopub.status.busy": "2021-10-14T13:35:20.548753Z",
     "iopub.status.idle": "2021-10-14T13:35:20.557744Z",
     "shell.execute_reply": "2021-10-14T13:35:20.556801Z",
     "shell.execute_reply.started": "2021-10-14T13:35:20.549177Z"
    }
   },
   "outputs": [],
   "source": [
    "#Predictiing on Test Set\n",
    "# y_pred_gbm=model.predict(X_test)\n",
    "yhat = pd.Series(yhat)\n",
    "\n",
    "#Evaluating model using f1_score\n",
    "print(\"Gradient Boosting F1 score on validation set is : \",f1_score(y_test,yhat))"
   ]
  },
  {
   "cell_type": "code",
   "execution_count": null,
   "metadata": {
    "execution": {
     "iopub.execute_input": "2021-10-14T13:35:20.559356Z",
     "iopub.status.busy": "2021-10-14T13:35:20.558991Z",
     "iopub.status.idle": "2021-10-14T13:35:20.569147Z",
     "shell.execute_reply": "2021-10-14T13:35:20.568406Z",
     "shell.execute_reply.started": "2021-10-14T13:35:20.559322Z"
    }
   },
   "outputs": [],
   "source": [
    "#Now Predict on Test set\n",
    "gb_preds = model.predict(test)"
   ]
  },
  {
   "cell_type": "code",
   "execution_count": null,
   "metadata": {
    "execution": {
     "iopub.execute_input": "2021-10-14T13:35:20.570967Z",
     "iopub.status.busy": "2021-10-14T13:35:20.570615Z",
     "iopub.status.idle": "2021-10-14T13:35:20.582246Z",
     "shell.execute_reply": "2021-10-14T13:35:20.581473Z",
     "shell.execute_reply.started": "2021-10-14T13:35:20.570897Z"
    }
   },
   "outputs": [],
   "source": [
    "#Save prediction to submission file created earlier\n",
    "sub_file.Response = gb_preds\n",
    "sub_file.head()"
   ]
  },
  {
   "cell_type": "code",
   "execution_count": null,
   "metadata": {
    "execution": {
     "iopub.execute_input": "2021-10-14T13:35:20.584022Z",
     "iopub.status.busy": "2021-10-14T13:35:20.583556Z",
     "iopub.status.idle": "2021-10-14T13:35:20.592524Z",
     "shell.execute_reply": "2021-10-14T13:35:20.591795Z",
     "shell.execute_reply.started": "2021-10-14T13:35:20.583988Z"
    }
   },
   "outputs": [],
   "source": [
    "#Save to Csv for submission\n",
    "sub_file.to_csv('gbm1010_median-10-7depth.csv', index=False)"
   ]
  },
  {
   "cell_type": "markdown",
   "metadata": {},
   "source": [
    "## Histogram - Based Gradient Boosting Machine"
   ]
  },
  {
   "cell_type": "code",
   "execution_count": null,
   "metadata": {
    "execution": {
     "iopub.execute_input": "2021-10-14T13:35:20.599772Z",
     "iopub.status.busy": "2021-10-14T13:35:20.599577Z",
     "iopub.status.idle": "2021-10-14T13:35:32.82872Z",
     "shell.execute_reply": "2021-10-14T13:35:32.828202Z",
     "shell.execute_reply.started": "2021-10-14T13:35:20.59975Z"
    }
   },
   "outputs": [],
   "source": [
    "from sklearn.experimental import enable_hist_gradient_boosting\n",
    "from sklearn.ensemble import HistGradientBoostingClassifier\n",
    "from sklearn.model_selection import cross_val_score\n",
    "from sklearn.model_selection import RepeatedStratifiedKFold\n",
    "from matplotlib import pyplot\n",
    "# define dataset\n",
    "# X, y = make_classification(n_samples=1000, n_features=10, n_informative=5, n_redundant=5, random_state=1)\n",
    "# evaluate the model\n",
    "model = HistGradientBoostingClassifier()\n",
    "cv = RepeatedStratifiedKFold(n_splits=10, n_repeats=3, random_state=1)\n",
    "n_scores = cross_val_score(model, X_train, y_train, scoring='accuracy', cv=cv, n_jobs=-1, error_score='raise')\n",
    "print('Accuracy: %.3f (%.3f)' % (np.mean(n_scores), np.std(n_scores)))\n",
    "# fit the model on the whole dataset\n",
    "model = HistGradientBoostingClassifier()\n",
    "model.fit(X_train, y_train)\n",
    "# make a single prediction\n",
    "# row = [[2.56999479, -0.13019997, 3.16075093, -4.35936352, -1.61271951, -1.39352057, -2.48924933, -1.93094078, 3.26130366, 2.05692145]]\n",
    "yhat = model.predict(X_test)\n",
    "print('Prediction: %d' % yhat[0])\n",
    "yhat[:5]"
   ]
  },
  {
   "cell_type": "code",
   "execution_count": null,
   "metadata": {
    "execution": {
     "iopub.execute_input": "2021-10-14T13:35:32.831931Z",
     "iopub.status.busy": "2021-10-14T13:35:32.831601Z",
     "iopub.status.idle": "2021-10-14T13:35:32.841758Z",
     "shell.execute_reply": "2021-10-14T13:35:32.84118Z",
     "shell.execute_reply.started": "2021-10-14T13:35:32.831901Z"
    }
   },
   "outputs": [],
   "source": [
    "#Predictiing on Test Set\n",
    "# y_pred_gbm=model.predict(X_test)\n",
    "yhat = pd.Series(yhat)\n",
    "\n",
    "#Evaluating model using f1_score\n",
    "print(\"Histogram Gradient Boosting F1 score on validation set is : \",f1_score(y_test,yhat))"
   ]
  },
  {
   "cell_type": "code",
   "execution_count": null,
   "metadata": {
    "execution": {
     "iopub.execute_input": "2021-10-14T13:35:32.845762Z",
     "iopub.status.busy": "2021-10-14T13:35:32.845367Z",
     "iopub.status.idle": "2021-10-14T13:35:32.858254Z",
     "shell.execute_reply": "2021-10-14T13:35:32.85763Z",
     "shell.execute_reply.started": "2021-10-14T13:35:32.845732Z"
    }
   },
   "outputs": [],
   "source": [
    "#Now Predict on Test set\n",
    "hgb_preds = model.predict(test)"
   ]
  },
  {
   "cell_type": "code",
   "execution_count": null,
   "metadata": {
    "execution": {
     "iopub.execute_input": "2021-10-14T13:35:32.863107Z",
     "iopub.status.busy": "2021-10-14T13:35:32.86158Z",
     "iopub.status.idle": "2021-10-14T13:35:32.873617Z",
     "shell.execute_reply": "2021-10-14T13:35:32.872996Z",
     "shell.execute_reply.started": "2021-10-14T13:35:32.86307Z"
    }
   },
   "outputs": [],
   "source": [
    "#Save prediction to submission file created earlier\n",
    "sub_file.Response = hgb_preds\n",
    "sub_file.head()"
   ]
  },
  {
   "cell_type": "code",
   "execution_count": null,
   "metadata": {
    "execution": {
     "iopub.execute_input": "2021-10-14T13:35:32.874937Z",
     "iopub.status.busy": "2021-10-14T13:35:32.874589Z",
     "iopub.status.idle": "2021-10-14T13:35:32.881777Z",
     "shell.execute_reply": "2021-10-14T13:35:32.88113Z",
     "shell.execute_reply.started": "2021-10-14T13:35:32.874906Z"
    }
   },
   "outputs": [],
   "source": [
    "#Save to Csv for submission\n",
    "sub_file.to_csv('hgbm1010_median-11.csv', index=False)"
   ]
  },
  {
   "cell_type": "markdown",
   "metadata": {},
   "source": [
    "## XGBOOST"
   ]
  },
  {
   "cell_type": "code",
   "execution_count": null,
   "metadata": {
    "execution": {
     "iopub.execute_input": "2021-10-14T13:35:32.883532Z",
     "iopub.status.busy": "2021-10-14T13:35:32.883114Z",
     "iopub.status.idle": "2021-10-14T13:36:30.775105Z",
     "shell.execute_reply": "2021-10-14T13:36:30.774304Z",
     "shell.execute_reply.started": "2021-10-14T13:35:32.8835Z"
    }
   },
   "outputs": [],
   "source": [
    "from sklearn.experimental import enable_hist_gradient_boosting\n",
    "from xgboost import XGBClassifier\n",
    "from sklearn.model_selection import cross_val_score\n",
    "from sklearn.model_selection import RepeatedStratifiedKFold\n",
    "from matplotlib import pyplot\n",
    "# define dataset\n",
    "# X, y = make_classification(n_samples=1000, n_features=10, n_informative=5, n_redundant=5, random_state=1)\n",
    "# evaluate the model\n",
    "model = XGBClassifier(eval_metric=\"rmsle\")\n",
    "cv = RepeatedStratifiedKFold(n_splits=10, n_repeats=3, random_state=1)\n",
    "n_scores = cross_val_score(model, X_train, y_train, scoring='accuracy', cv=cv, n_jobs=-1, error_score='raise')\n",
    "print('Accuracy: %.3f (%.3f)' % (np.mean(n_scores), np.std(n_scores)))\n",
    "# fit the model on the whole dataset\n",
    "model = XGBClassifier()\n",
    "model.fit(X_train, y_train)\n",
    "# make a single prediction\n",
    "# row = [[2.56999479, -0.13019997, 3.16075093, -4.35936352, -1.61271951, -1.39352057, -2.48924933, -1.93094078, 3.26130366, 2.05692145]]\n",
    "yhat = model.predict(X_test)\n",
    "print('Prediction: %d' % yhat[0])\n",
    "yhat[:5]"
   ]
  },
  {
   "cell_type": "code",
   "execution_count": null,
   "metadata": {
    "execution": {
     "iopub.execute_input": "2021-10-14T13:36:30.777497Z",
     "iopub.status.busy": "2021-10-14T13:36:30.776595Z",
     "iopub.status.idle": "2021-10-14T13:36:30.785109Z",
     "shell.execute_reply": "2021-10-14T13:36:30.784398Z",
     "shell.execute_reply.started": "2021-10-14T13:36:30.777456Z"
    }
   },
   "outputs": [],
   "source": [
    "#Predictiing on Test Set\n",
    "# y_pred_gbm=model.predict(X_test)\n",
    "yhat = pd.Series(yhat)\n",
    "\n",
    "#Evaluating model using f1_score\n",
    "print(\"X Gradient Boosting F1 score on validation set is : \",f1_score(y_test,yhat))"
   ]
  },
  {
   "cell_type": "code",
   "execution_count": null,
   "metadata": {
    "execution": {
     "iopub.execute_input": "2021-10-14T13:36:30.787232Z",
     "iopub.status.busy": "2021-10-14T13:36:30.786517Z",
     "iopub.status.idle": "2021-10-14T13:36:30.798516Z",
     "shell.execute_reply": "2021-10-14T13:36:30.797657Z",
     "shell.execute_reply.started": "2021-10-14T13:36:30.787195Z"
    }
   },
   "outputs": [],
   "source": [
    "#Now Predict on Test set\n",
    "gb_preds = model.predict(test)"
   ]
  },
  {
   "cell_type": "code",
   "execution_count": null,
   "metadata": {
    "execution": {
     "iopub.execute_input": "2021-10-14T13:36:30.802305Z",
     "iopub.status.busy": "2021-10-14T13:36:30.802088Z",
     "iopub.status.idle": "2021-10-14T13:36:30.816798Z",
     "shell.execute_reply": "2021-10-14T13:36:30.816123Z",
     "shell.execute_reply.started": "2021-10-14T13:36:30.802282Z"
    }
   },
   "outputs": [],
   "source": [
    "#Save prediction to submission file created earlier\n",
    "sub_file.Response = gb_preds\n",
    "sub_file.head()"
   ]
  },
  {
   "cell_type": "code",
   "execution_count": null,
   "metadata": {
    "execution": {
     "iopub.execute_input": "2021-10-14T13:36:30.818029Z",
     "iopub.status.busy": "2021-10-14T13:36:30.817778Z",
     "iopub.status.idle": "2021-10-14T13:36:30.825776Z",
     "shell.execute_reply": "2021-10-14T13:36:30.825001Z",
     "shell.execute_reply.started": "2021-10-14T13:36:30.817998Z"
    }
   },
   "outputs": [],
   "source": [
    "#Save to Csv for submission\n",
    "sub_file.to_csv('xgbm1010_median-12.csv', index=False)"
   ]
  },
  {
   "cell_type": "markdown",
   "metadata": {},
   "source": [
    "### LightGBM"
   ]
  },
  {
   "cell_type": "code",
   "execution_count": null,
   "metadata": {},
   "outputs": [],
   "source": []
  },
  {
   "cell_type": "code",
   "execution_count": null,
   "metadata": {
    "execution": {
     "iopub.execute_input": "2021-10-14T13:36:30.827922Z",
     "iopub.status.busy": "2021-10-14T13:36:30.827278Z",
     "iopub.status.idle": "2021-10-14T13:36:34.184362Z",
     "shell.execute_reply": "2021-10-14T13:36:34.183712Z",
     "shell.execute_reply.started": "2021-10-14T13:36:30.827888Z"
    }
   },
   "outputs": [],
   "source": [
    "from lightgbm import LGBMClassifier\n",
    "from sklearn.model_selection import cross_val_score\n",
    "from sklearn.model_selection import RepeatedStratifiedKFold\n",
    "from matplotlib import pyplot\n",
    "# define dataset\n",
    "# X, y = make_classification(n_samples=1000, n_features=10, n_informative=5, n_redundant=5, random_state=1)\n",
    "# evaluate the model\n",
    "model = LGBMClassifier()\n",
    "cv = RepeatedStratifiedKFold(n_splits=10, n_repeats=3, random_state=42)\n",
    "n_scores = cross_val_score(model, X_train, y_train, scoring='accuracy', cv=cv, n_jobs=-1, error_score='raise')\n",
    "print('Accuracy: %.3f (%.3f)' % (np.mean(n_scores), np.std(n_scores)))\n",
    "# fit the model on the whole dataset\n",
    "model = LGBMClassifier()\n",
    "model.fit(X_train, y_train)\n",
    "# make a single prediction\n",
    "# row = [[2.56999479, -0.13019997, 3.16075093, -4.35936352, -1.61271951, -1.39352057, -2.48924933, -1.93094078, 3.26130366, 2.05692145]]\n",
    "yhat = model.predict(X_test)\n",
    "print('Prediction: %d' % yhat[0])\n",
    "yhat[:5]"
   ]
  },
  {
   "cell_type": "code",
   "execution_count": null,
   "metadata": {
    "execution": {
     "iopub.execute_input": "2021-10-14T13:36:34.188178Z",
     "iopub.status.busy": "2021-10-14T13:36:34.187898Z",
     "iopub.status.idle": "2021-10-14T13:36:34.198809Z",
     "shell.execute_reply": "2021-10-14T13:36:34.19765Z",
     "shell.execute_reply.started": "2021-10-14T13:36:34.188143Z"
    }
   },
   "outputs": [],
   "source": [
    "#Predictiing on Test Set\n",
    "# y_pred_gbm=model.predict(X_test)\n",
    "yhat = pd.Series(yhat)\n",
    "\n",
    "#Evaluating model using f1_score\n",
    "print(\"Light Gradient Boosting F1 score on validation set is : \",f1_score(y_test,yhat))"
   ]
  },
  {
   "cell_type": "code",
   "execution_count": null,
   "metadata": {
    "execution": {
     "iopub.execute_input": "2021-10-14T13:36:34.204635Z",
     "iopub.status.busy": "2021-10-14T13:36:34.200353Z",
     "iopub.status.idle": "2021-10-14T13:36:34.236815Z",
     "shell.execute_reply": "2021-10-14T13:36:34.236128Z",
     "shell.execute_reply.started": "2021-10-14T13:36:34.204599Z"
    }
   },
   "outputs": [],
   "source": [
    "#Now Predict on Test set\n",
    "lgb_preds = model.predict(test)"
   ]
  },
  {
   "cell_type": "code",
   "execution_count": null,
   "metadata": {
    "execution": {
     "iopub.execute_input": "2021-10-14T13:36:34.238446Z",
     "iopub.status.busy": "2021-10-14T13:36:34.238033Z",
     "iopub.status.idle": "2021-10-14T13:36:34.250898Z",
     "shell.execute_reply": "2021-10-14T13:36:34.249931Z",
     "shell.execute_reply.started": "2021-10-14T13:36:34.238403Z"
    }
   },
   "outputs": [],
   "source": [
    "#Save prediction to submission file created earlier\n",
    "sub_file.Response = lgb_preds\n",
    "sub_file.head()"
   ]
  },
  {
   "cell_type": "code",
   "execution_count": null,
   "metadata": {
    "execution": {
     "iopub.execute_input": "2021-10-14T13:36:34.257468Z",
     "iopub.status.busy": "2021-10-14T13:36:34.255486Z",
     "iopub.status.idle": "2021-10-14T13:36:34.266598Z",
     "shell.execute_reply": "2021-10-14T13:36:34.265753Z",
     "shell.execute_reply.started": "2021-10-14T13:36:34.257422Z"
    }
   },
   "outputs": [],
   "source": [
    "#Save to Csv for submission\n",
    "sub_file.to_csv('lgbm1010_median-13.csv', index=False)"
   ]
  },
  {
   "cell_type": "code",
   "execution_count": null,
   "metadata": {},
   "outputs": [],
   "source": []
  },
  {
   "cell_type": "markdown",
   "metadata": {},
   "source": [
    "### CATBOOST"
   ]
  },
  {
   "cell_type": "code",
   "execution_count": null,
   "metadata": {},
   "outputs": [],
   "source": []
  },
  {
   "cell_type": "code",
   "execution_count": null,
   "metadata": {
    "execution": {
     "iopub.execute_input": "2021-10-14T13:36:34.272303Z",
     "iopub.status.busy": "2021-10-14T13:36:34.270456Z",
     "iopub.status.idle": "2021-10-14T13:38:18.382159Z",
     "shell.execute_reply": "2021-10-14T13:38:18.381451Z",
     "shell.execute_reply.started": "2021-10-14T13:36:34.272267Z"
    }
   },
   "outputs": [],
   "source": [
    "from catboost import CatBoostClassifier\n",
    "from sklearn.model_selection import cross_val_score\n",
    "from sklearn.model_selection import RepeatedStratifiedKFold\n",
    "from matplotlib import pyplot\n",
    "# define dataset\n",
    "# X, y = make_classification(n_samples=1000, n_features=10, n_informative=5, n_redundant=5, random_state=1)\n",
    "# evaluate the model\n",
    "model = CatBoostClassifier()\n",
    "cv = RepeatedStratifiedKFold(n_splits=10, n_repeats=3, random_state=42)\n",
    "n_scores = cross_val_score(model, X_train, y_train, scoring='accuracy', cv=cv, n_jobs=-1, error_score='raise')\n",
    "print('Accuracy: %.3f (%.3f)' % (np.mean(n_scores), np.std(n_scores)))\n",
    "# fit the model on the whole dataset\n",
    "model = CatBoostClassifier()\n",
    "model.fit(X_train, y_train)\n",
    "# make a single prediction\n",
    "# row = [[2.56999479, -0.13019997, 3.16075093, -4.35936352, -1.61271951, -1.39352057, -2.48924933, -1.93094078, 3.26130366, 2.05692145]]\n",
    "yhat = model.predict(X_test)\n",
    "print('Prediction: %d' % yhat[0])\n",
    "yhat[:5]"
   ]
  },
  {
   "cell_type": "code",
   "execution_count": null,
   "metadata": {
    "execution": {
     "iopub.execute_input": "2021-10-14T13:38:18.383857Z",
     "iopub.status.busy": "2021-10-14T13:38:18.383599Z",
     "iopub.status.idle": "2021-10-14T13:38:18.392033Z",
     "shell.execute_reply": "2021-10-14T13:38:18.391138Z",
     "shell.execute_reply.started": "2021-10-14T13:38:18.383822Z"
    }
   },
   "outputs": [],
   "source": [
    "#Predictiing on Test Set\n",
    "# y_pred_gbm=model.predict(X_test)\n",
    "yhat = pd.Series(yhat)\n",
    "\n",
    "#Evaluating model using f1_score\n",
    "print(\"Cat Boosting F1 score on validation set is : \",f1_score(y_test,yhat))"
   ]
  },
  {
   "cell_type": "code",
   "execution_count": null,
   "metadata": {
    "execution": {
     "iopub.execute_input": "2021-10-14T13:38:18.394163Z",
     "iopub.status.busy": "2021-10-14T13:38:18.393571Z",
     "iopub.status.idle": "2021-10-14T13:38:18.403565Z",
     "shell.execute_reply": "2021-10-14T13:38:18.402746Z",
     "shell.execute_reply.started": "2021-10-14T13:38:18.394127Z"
    }
   },
   "outputs": [],
   "source": [
    "#Now Predict on Test set\n",
    "cgb_preds = model.predict(test)"
   ]
  },
  {
   "cell_type": "code",
   "execution_count": null,
   "metadata": {
    "execution": {
     "iopub.execute_input": "2021-10-14T13:38:18.405458Z",
     "iopub.status.busy": "2021-10-14T13:38:18.405208Z",
     "iopub.status.idle": "2021-10-14T13:38:18.416672Z",
     "shell.execute_reply": "2021-10-14T13:38:18.415776Z",
     "shell.execute_reply.started": "2021-10-14T13:38:18.405417Z"
    }
   },
   "outputs": [],
   "source": [
    "#Save prediction to submission file created earlier\n",
    "sub_file.Response = cgb_preds\n",
    "sub_file.head()"
   ]
  },
  {
   "cell_type": "code",
   "execution_count": null,
   "metadata": {
    "execution": {
     "iopub.execute_input": "2021-10-14T13:38:18.418579Z",
     "iopub.status.busy": "2021-10-14T13:38:18.418253Z",
     "iopub.status.idle": "2021-10-14T13:38:18.4263Z",
     "shell.execute_reply": "2021-10-14T13:38:18.425559Z",
     "shell.execute_reply.started": "2021-10-14T13:38:18.418503Z"
    }
   },
   "outputs": [],
   "source": [
    "#Save to Csv for submission\n",
    "sub_file.to_csv('cgbm1010_median-14.csv', index=False)"
   ]
  },
  {
   "cell_type": "code",
   "execution_count": null,
   "metadata": {},
   "outputs": [],
   "source": []
  },
  {
   "cell_type": "markdown",
   "metadata": {},
   "source": [
    "### RANDOM FOREST"
   ]
  },
  {
   "cell_type": "code",
   "execution_count": null,
   "metadata": {},
   "outputs": [],
   "source": []
  },
  {
   "cell_type": "markdown",
   "metadata": {},
   "source": [
    "### LGBM contd"
   ]
  },
  {
   "cell_type": "code",
   "execution_count": null,
   "metadata": {},
   "outputs": [],
   "source": []
  },
  {
   "cell_type": "code",
   "execution_count": null,
   "metadata": {
    "execution": {
     "iopub.execute_input": "2021-10-14T13:38:18.427849Z",
     "iopub.status.busy": "2021-10-14T13:38:18.427517Z",
     "iopub.status.idle": "2021-10-14T13:38:18.532861Z",
     "shell.execute_reply": "2021-10-14T13:38:18.531808Z",
     "shell.execute_reply.started": "2021-10-14T13:38:18.4278Z"
    }
   },
   "outputs": [],
   "source": [
    "#drop Date_Customer\n",
    "# X_train = X_train.drop('Date_Customer', axis=1)\n",
    "# X_test = X_test.drop('Date_Customer', axis=1)\n",
    "# test = test.drop('Date_Customer', axis=1)\n",
    "\n",
    "#Creating model \n",
    "lgb_model=lgb.LGBMClassifier(random_seed=42, max_depth=9, scale_pos_weight=99)\n",
    "\n",
    "#Training Catboost Model on train set\n",
    "lgb_model.fit(X_train,y_train)\n",
    "\n",
    "#Predictiing on Test Set\n",
    "y_pred_lgb=lgb_model.predict(X_test)\n",
    "\n",
    "#Evaluating model using f1_score\n",
    "print(\"LightGBM F1 score on validation set is : \",f1_score(y_test,y_pred_lgb))"
   ]
  },
  {
   "cell_type": "code",
   "execution_count": null,
   "metadata": {
    "execution": {
     "iopub.execute_input": "2021-10-14T13:38:18.534423Z",
     "iopub.status.busy": "2021-10-14T13:38:18.534189Z",
     "iopub.status.idle": "2021-10-14T13:38:18.547352Z",
     "shell.execute_reply": "2021-10-14T13:38:18.546517Z",
     "shell.execute_reply.started": "2021-10-14T13:38:18.534392Z"
    }
   },
   "outputs": [],
   "source": [
    "#Now Predict on Test set\n",
    "lgb_preds = lgb_model.predict(test)"
   ]
  },
  {
   "cell_type": "code",
   "execution_count": null,
   "metadata": {
    "execution": {
     "iopub.execute_input": "2021-10-14T13:38:18.548819Z",
     "iopub.status.busy": "2021-10-14T13:38:18.548589Z",
     "iopub.status.idle": "2021-10-14T13:38:18.561637Z",
     "shell.execute_reply": "2021-10-14T13:38:18.560866Z",
     "shell.execute_reply.started": "2021-10-14T13:38:18.548789Z"
    }
   },
   "outputs": [],
   "source": [
    "#Save prediction to submission file created earlier\n",
    "sub_file.Response = lgb_preds\n",
    "sub_file.head()"
   ]
  },
  {
   "cell_type": "code",
   "execution_count": null,
   "metadata": {
    "execution": {
     "iopub.execute_input": "2021-10-14T13:38:18.565772Z",
     "iopub.status.busy": "2021-10-14T13:38:18.563567Z",
     "iopub.status.idle": "2021-10-14T13:38:18.572646Z",
     "shell.execute_reply": "2021-10-14T13:38:18.571959Z",
     "shell.execute_reply.started": "2021-10-14T13:38:18.565744Z"
    }
   },
   "outputs": [],
   "source": [
    "#Save to Csv for submission\n",
    "sub_file.to_csv('lgbm1010_median-2-9depth.csv', index=False)"
   ]
  },
  {
   "cell_type": "markdown",
   "metadata": {},
   "source": [
    "### ANOTHER LGBM\n",
    "A simple LGBM with scale_pos = 99"
   ]
  },
  {
   "cell_type": "code",
   "execution_count": null,
   "metadata": {},
   "outputs": [],
   "source": []
  },
  {
   "cell_type": "code",
   "execution_count": null,
   "metadata": {
    "execution": {
     "iopub.execute_input": "2021-10-14T13:38:18.575555Z",
     "iopub.status.busy": "2021-10-14T13:38:18.575372Z",
     "iopub.status.idle": "2021-10-14T13:38:18.667736Z",
     "shell.execute_reply": "2021-10-14T13:38:18.667166Z",
     "shell.execute_reply.started": "2021-10-14T13:38:18.575534Z"
    }
   },
   "outputs": [],
   "source": [
    "#drop Date_Customer\n",
    "# X_train = X_train.drop('Date_Customer', axis=1)\n",
    "# X_test = X_test.drop('Date_Customer', axis=1)\n",
    "# test = test.drop('Date_Customer', axis=1)\n",
    "\n",
    "#Creating model \n",
    "lgb_model=lgb.LGBMClassifier(random_seed=42, max_depth=7, scale_pos_weight=99)\n",
    "\n",
    "#Training LGB Model on train set\n",
    "lgb_model.fit(X_train,y_train)\n",
    "\n",
    "#Predictiing on Test Set\n",
    "y_pred_lgb=lgb_model.predict(X_test)\n",
    "\n",
    "#Evaluating model using f1_score\n",
    "print(\"LightGBM F1 score on validation set is : \",f1_score(y_test,y_pred_lgb))"
   ]
  },
  {
   "cell_type": "code",
   "execution_count": null,
   "metadata": {
    "execution": {
     "iopub.execute_input": "2021-10-14T13:38:18.669569Z",
     "iopub.status.busy": "2021-10-14T13:38:18.669117Z",
     "iopub.status.idle": "2021-10-14T13:38:18.679813Z",
     "shell.execute_reply": "2021-10-14T13:38:18.679148Z",
     "shell.execute_reply.started": "2021-10-14T13:38:18.669536Z"
    }
   },
   "outputs": [],
   "source": [
    "#Now Predict on Test set\n",
    "lgb_preds = lgb_model.predict(test)"
   ]
  },
  {
   "cell_type": "code",
   "execution_count": null,
   "metadata": {
    "execution": {
     "iopub.execute_input": "2021-10-14T13:38:18.681644Z",
     "iopub.status.busy": "2021-10-14T13:38:18.681184Z",
     "iopub.status.idle": "2021-10-14T13:38:18.694378Z",
     "shell.execute_reply": "2021-10-14T13:38:18.693731Z",
     "shell.execute_reply.started": "2021-10-14T13:38:18.68161Z"
    }
   },
   "outputs": [],
   "source": [
    "#Save prediction to submission file created earlier\n",
    "sub_file.Response = lgb_preds\n",
    "sub_file.head()"
   ]
  },
  {
   "cell_type": "code",
   "execution_count": null,
   "metadata": {
    "execution": {
     "iopub.execute_input": "2021-10-14T13:38:18.6972Z",
     "iopub.status.busy": "2021-10-14T13:38:18.696952Z",
     "iopub.status.idle": "2021-10-14T13:38:18.703768Z",
     "shell.execute_reply": "2021-10-14T13:38:18.703118Z",
     "shell.execute_reply.started": "2021-10-14T13:38:18.697174Z"
    }
   },
   "outputs": [],
   "source": [
    "#Save to Csv for submission\n",
    "sub_file.to_csv('lgbm1010_median-9-7depthUNBL.csv', index=False)"
   ]
  },
  {
   "cell_type": "markdown",
   "metadata": {},
   "source": [
    "### RANDOM FOREST"
   ]
  },
  {
   "cell_type": "code",
   "execution_count": null,
   "metadata": {
    "execution": {
     "iopub.execute_input": "2021-10-14T13:38:18.705387Z",
     "iopub.status.busy": "2021-10-14T13:38:18.705147Z",
     "iopub.status.idle": "2021-10-14T13:38:18.868909Z",
     "shell.execute_reply": "2021-10-14T13:38:18.868182Z",
     "shell.execute_reply.started": "2021-10-14T13:38:18.705354Z"
    }
   },
   "outputs": [],
   "source": [
    "# import Random Forest classifier\n",
    "\n",
    "from sklearn.ensemble import RandomForestClassifier\n",
    "\n",
    "\n",
    "\n",
    "# instantiate the classifier \n",
    "\n",
    "rfc = RandomForestClassifier(random_state=42, n_estimators=50)\n",
    "\n",
    "\n",
    "\n",
    "# fit the model\n",
    "\n",
    "rfc.fit(X_train, y_train)\n",
    "\n",
    "\n",
    "\n",
    "# Predict the Test set results\n",
    "\n",
    "y_pred = rfc.predict(X_test)\n",
    "\n",
    "\n",
    "\n",
    "# Check accuracy score \n",
    "\n",
    "# from sklearn.metrics import accuracy_score\n",
    "\n",
    "print('Model accuracy score with 10 decision-trees : {0:0.4f}'. format(accuracy_score(y_test, y_pred)))\n",
    "\n",
    "#Evaluating model using f1_score\n",
    "print(\"Random Forest F1 score on validation set is : \",f1_score(y_test,y_pred))"
   ]
  },
  {
   "cell_type": "code",
   "execution_count": null,
   "metadata": {
    "execution": {
     "iopub.execute_input": "2021-10-14T13:38:18.870548Z",
     "iopub.status.busy": "2021-10-14T13:38:18.86992Z",
     "iopub.status.idle": "2021-10-14T13:38:18.887194Z",
     "shell.execute_reply": "2021-10-14T13:38:18.886455Z",
     "shell.execute_reply.started": "2021-10-14T13:38:18.870521Z"
    }
   },
   "outputs": [],
   "source": [
    "#Now Predict on Test set\n",
    "rfc_preds = rfc.predict(test)"
   ]
  },
  {
   "cell_type": "code",
   "execution_count": null,
   "metadata": {
    "execution": {
     "iopub.execute_input": "2021-10-14T13:38:18.888655Z",
     "iopub.status.busy": "2021-10-14T13:38:18.888327Z",
     "iopub.status.idle": "2021-10-14T13:38:18.899881Z",
     "shell.execute_reply": "2021-10-14T13:38:18.898719Z",
     "shell.execute_reply.started": "2021-10-14T13:38:18.888618Z"
    }
   },
   "outputs": [],
   "source": [
    "#Save prediction to submission file created earlier\n",
    "sub_file.Response = rfc_preds\n",
    "sub_file.head()"
   ]
  },
  {
   "cell_type": "code",
   "execution_count": null,
   "metadata": {
    "execution": {
     "iopub.execute_input": "2021-10-14T13:38:18.901592Z",
     "iopub.status.busy": "2021-10-14T13:38:18.901321Z",
     "iopub.status.idle": "2021-10-14T13:38:18.908642Z",
     "shell.execute_reply": "2021-10-14T13:38:18.907828Z",
     "shell.execute_reply.started": "2021-10-14T13:38:18.901557Z"
    }
   },
   "outputs": [],
   "source": [
    "#Save to Csv for submission\n",
    "sub_file.to_csv('rfc50_1010_median.csv', index=False)"
   ]
  },
  {
   "cell_type": "code",
   "execution_count": null,
   "metadata": {},
   "outputs": [],
   "source": []
  },
  {
   "cell_type": "markdown",
   "metadata": {},
   "source": [
    "### STACKING EXPERIMENT"
   ]
  },
  {
   "cell_type": "code",
   "execution_count": null,
   "metadata": {
    "execution": {
     "iopub.execute_input": "2021-10-14T13:38:18.910305Z",
     "iopub.status.busy": "2021-10-14T13:38:18.910029Z",
     "iopub.status.idle": "2021-10-14T13:38:18.916566Z",
     "shell.execute_reply": "2021-10-14T13:38:18.915774Z",
     "shell.execute_reply.started": "2021-10-14T13:38:18.910271Z"
    }
   },
   "outputs": [],
   "source": [
    "import random\n",
    "random.seed(123)\n",
    "\n",
    "import datatable as dt\n",
    "\n",
    "# importing feature selection and processing packages\n",
    "\n",
    "from sklearn.model_selection import StratifiedKFold, train_test_split\n",
    "from sklearn.metrics import roc_auc_score\n",
    "from sklearn.preprocessing import MinMaxScaler,StandardScaler,PowerTransformer\n",
    "from sklearn.decomposition import PCA\n",
    "\n",
    "# importing modelling packages\n",
    "\n",
    "from sklearn.linear_model import LogisticRegression, RidgeClassifier\n",
    "from lightgbm import LGBMClassifier\n",
    "from catboost import CatBoostClassifier\n",
    "from xgboost import XGBClassifier"
   ]
  },
  {
   "cell_type": "markdown",
   "metadata": {},
   "source": [
    "### Hyperparameters for Modelling"
   ]
  },
  {
   "cell_type": "code",
   "execution_count": null,
   "metadata": {
    "execution": {
     "iopub.execute_input": "2021-10-14T13:38:18.918632Z",
     "iopub.status.busy": "2021-10-14T13:38:18.918113Z",
     "iopub.status.idle": "2021-10-14T13:38:18.927832Z",
     "shell.execute_reply": "2021-10-14T13:38:18.927115Z",
     "shell.execute_reply.started": "2021-10-14T13:38:18.918598Z"
    }
   },
   "outputs": [],
   "source": [
    "# only changing random_state - tuned parameters taken from another notebook\n",
    "\n",
    "cat_params_1 = {\"task_type\": \"GPU\",\"learning_rate\": 0.08,\"n_estimators\":  10_000,\"random_strength\" : 1.0,\n",
    "    \"max_bin\": 128,\"l2_leaf_reg\": 0.002550319996478972,\"max_depth\": 4,\"min_data_in_leaf\": 193,\n",
    "    \"random_state\": 42}\n",
    "\n",
    "cat_params_2 = {\"task_type\": \"GPU\",\"learning_rate\": 0.08,\"n_estimators\":  10_000,\"random_strength\" : 1.0,\n",
    "    \"max_bin\": 128,\"l2_leaf_reg\": 0.002550319996478972,\"max_depth\": 4,\"min_data_in_leaf\": 193,\n",
    "    \"random_state\": 2021}"
   ]
  },
  {
   "cell_type": "markdown",
   "metadata": {},
   "source": [
    "### Ensembling"
   ]
  },
  {
   "cell_type": "code",
   "execution_count": null,
   "metadata": {
    "execution": {
     "iopub.execute_input": "2021-10-14T14:44:51.779897Z",
     "iopub.status.busy": "2021-10-14T14:44:51.779629Z",
     "iopub.status.idle": "2021-10-14T15:17:10.657821Z",
     "shell.execute_reply": "2021-10-14T15:17:10.657165Z",
     "shell.execute_reply.started": "2021-10-14T14:44:51.779867Z"
    }
   },
   "outputs": [],
   "source": [
    "folds = StratifiedKFold(n_splits = 5, random_state = 2021, shuffle = True)\n",
    "\n",
    "predictions_cb_1 = np.zeros(len(test))\n",
    "predictions_cb_2 = np.zeros(len(test)) \n",
    "\n",
    "cat_oof_1 = np.zeros(X.shape[0])\n",
    "cat_oof_2 = np.zeros(X.shape[0])\n",
    "\n",
    "for fold, (trn_idx, val_idx) in enumerate(folds.split(X,y)):\n",
    "    print(f\"Fold: {fold+1}\")\n",
    "    X_train, X_val = X.iloc[trn_idx], X.iloc[val_idx]\n",
    "    y_train, y_val = y.iloc[trn_idx], y.iloc[val_idx]\n",
    "\n",
    "    model_cb_1 =  CatBoostClassifier(**cat_params_1,verbose=0)\n",
    "    model_cb_2 =  CatBoostClassifier(**cat_params_2,verbose=0)\n",
    "    \n",
    "    model_cb_1.fit(X_train, y_train)\n",
    "    pred_cb_1 = model_cb_1.predict_proba(X_val)[:,1]\n",
    "    cat_oof_1[val_idx] = pred_cb_1\n",
    "    print('ROC of CB 1: ',roc_auc_score(y_val,pred_cb_1))\n",
    "#     print('F1 of CB 1: ', f1_score(y_val,pred_cb_1))\n",
    "    \n",
    "    model_cb_2.fit(X_train, y_train)\n",
    "    pred_cb_2 = model_cb_2.predict_proba(X_val)[:,1]\n",
    "    cat_oof_2[val_idx] = pred_cb_2\n",
    "    print('ROC of CB 2: ',roc_auc_score(y_val,pred_cb_2))\n",
    "#     print('F1 of CB 2: ',f1_score(y_val,pred_cb_2))\n",
    "    \n",
    "    print(\"-\"*50)\n",
    "    \n",
    "    predictions_cb_1 += model_cb_1.predict(test) / folds.n_splits\n",
    "    predictions_cb_2 += model_cb_2.predict(test) / folds.n_splits\n",
    "predictions_cb_1[:5]"
   ]
  },
  {
   "cell_type": "code",
   "execution_count": null,
   "metadata": {
    "execution": {
     "iopub.execute_input": "2021-10-14T15:26:15.124832Z",
     "iopub.status.busy": "2021-10-14T15:26:15.124562Z",
     "iopub.status.idle": "2021-10-14T15:26:15.139128Z",
     "shell.execute_reply": "2021-10-14T15:26:15.138283Z",
     "shell.execute_reply.started": "2021-10-14T15:26:15.124803Z"
    }
   },
   "outputs": [],
   "source": [
    "predictions_cb_2"
   ]
  },
  {
   "cell_type": "code",
   "execution_count": null,
   "metadata": {
    "execution": {
     "iopub.execute_input": "2021-10-14T15:26:46.649878Z",
     "iopub.status.busy": "2021-10-14T15:26:46.649619Z",
     "iopub.status.idle": "2021-10-14T15:26:46.663996Z",
     "shell.execute_reply": "2021-10-14T15:26:46.663168Z",
     "shell.execute_reply.started": "2021-10-14T15:26:46.649849Z"
    }
   },
   "outputs": [],
   "source": [
    "# calculating appropriate weights for ensemble\n",
    "\n",
    "import scipy\n",
    "def class_optimizer(X, a0, a1):\n",
    "    oof = X[0]*a0 + (1-X[0])*a1\n",
    "    return (1-roc_auc_score(y, oof))\n",
    "\n",
    "res = scipy.optimize.minimize(\n",
    "    fun=class_optimizer,\n",
    "    x0=[0.5],\n",
    "    args=tuple([cat_oof_1, cat_oof_2]),\n",
    "    method='BFGS',\n",
    "    options={'maxiter': 1000})\n",
    "\n",
    "print(res)\n",
    "print(f\"coef0 {res.x[0]}, coef1 {1-res.x[0]}\")"
   ]
  },
  {
   "cell_type": "code",
   "execution_count": null,
   "metadata": {
    "execution": {
     "iopub.execute_input": "2021-10-14T15:26:58.123442Z",
     "iopub.status.busy": "2021-10-14T15:26:58.122413Z",
     "iopub.status.idle": "2021-10-14T15:26:58.137527Z",
     "shell.execute_reply": "2021-10-14T15:26:58.136889Z",
     "shell.execute_reply.started": "2021-10-14T15:26:58.123395Z"
    }
   },
   "outputs": [],
   "source": [
    "\n",
    "ensemble_pred = res.x[0] * predictions_cb_1  + (1-res.x[0]) * predictions_cb_2\n",
    "sub_file['Response'] = ensemble_pred\n",
    "sub_file.to_csv('submission_cb_tuned_ensemble.csv',index = False)"
   ]
  },
  {
   "cell_type": "markdown",
   "metadata": {},
   "source": [
    "### Stacking using the 2 predictions separately"
   ]
  },
  {
   "cell_type": "code",
   "execution_count": null,
   "metadata": {
    "execution": {
     "iopub.execute_input": "2021-10-14T14:11:48.389411Z",
     "iopub.status.busy": "2021-10-14T14:11:48.389184Z",
     "iopub.status.idle": "2021-10-14T14:11:48.418204Z",
     "shell.execute_reply": "2021-10-14T14:11:48.410845Z",
     "shell.execute_reply.started": "2021-10-14T14:11:48.389382Z"
    }
   },
   "outputs": [],
   "source": [
    "# creating stack datasets for our meta-classifier\n",
    "\n",
    "cat_train_1 = pd.DataFrame(cat_oof_1,columns=['CAT_train_1'])\n",
    "cat_train_2 = pd.DataFrame(cat_oof_2,columns=['CAT_train_2'])\n",
    "cat_test_1 = pd.DataFrame(predictions_cb_1,columns=['CAT_train_1'])\n",
    "cat_test_2 = pd.DataFrame(predictions_cb_2,columns=['CAT_train_2'])\n",
    "\n",
    "stack_x_train = pd.concat((cat_train_1,cat_train_2), axis = 1)\n",
    "stack_x_test = pd.concat((cat_test_1,cat_test_2), axis = 1)"
   ]
  },
  {
   "cell_type": "code",
   "execution_count": null,
   "metadata": {
    "execution": {
     "iopub.execute_input": "2021-10-14T14:11:48.419554Z",
     "iopub.status.busy": "2021-10-14T14:11:48.419288Z",
     "iopub.status.idle": "2021-10-14T14:11:49.556524Z",
     "shell.execute_reply": "2021-10-14T14:11:49.555906Z",
     "shell.execute_reply.started": "2021-10-14T14:11:48.419519Z"
    }
   },
   "outputs": [],
   "source": [
    "stk = StratifiedKFold(n_splits = 10, random_state = 42)\n",
    "\n",
    "test_pred = 0\n",
    "fold = 1\n",
    "total_auc = 0\n",
    "total_f1 = 0\n",
    "\n",
    "for train_index, valid_index in stk.split(stack_x_train, y):\n",
    "    x_train, y_train = stack_x_train.iloc[train_index], y[train_index]\n",
    "    x_valid, y_valid = stack_x_train.iloc[valid_index], y[valid_index]\n",
    "    \n",
    "    lr = LogisticRegression(n_jobs = -1, random_state = 42, C = 1000, max_iter = 1000)\n",
    "    lr = LGBMClassifier(verbose=0)\n",
    "    #lr = RidgeRegression()\n",
    "    lr.fit(x_train, y_train)\n",
    "    \n",
    "    valid_pred = lr.predict_proba(x_valid)[:,1]\n",
    "    test_pred += lr.predict_proba(stack_x_test)[:,1]\n",
    "    auc = roc_auc_score(y_valid, valid_pred)\n",
    "#     f1 = f1_score(y_valid, valid_pred)\n",
    "    total_auc += auc / 10\n",
    "#     total_f1 += f1 / 10\n",
    "    print('Fold', fold, 'AUC :', auc)\n",
    "#     print('Fold', fold, 'F1 :', f1)\n",
    "    fold += 1\n",
    "    \n",
    "print('Total AUC score :', total_auc)\n",
    "# print('Total F1 score :', total_f1)"
   ]
  },
  {
   "cell_type": "code",
   "execution_count": null,
   "metadata": {
    "execution": {
     "iopub.execute_input": "2021-10-14T14:28:42.498604Z",
     "iopub.status.busy": "2021-10-14T14:28:42.497968Z",
     "iopub.status.idle": "2021-10-14T14:28:42.508814Z",
     "shell.execute_reply": "2021-10-14T14:28:42.507819Z",
     "shell.execute_reply.started": "2021-10-14T14:28:42.498565Z"
    }
   },
   "outputs": [],
   "source": [
    "sub_file.head()"
   ]
  },
  {
   "cell_type": "code",
   "execution_count": null,
   "metadata": {
    "execution": {
     "iopub.execute_input": "2021-10-14T14:11:49.561076Z",
     "iopub.status.busy": "2021-10-14T14:11:49.55929Z",
     "iopub.status.idle": "2021-10-14T14:11:49.570309Z",
     "shell.execute_reply": "2021-10-14T14:11:49.569581Z",
     "shell.execute_reply.started": "2021-10-14T14:11:49.561031Z"
    }
   },
   "outputs": [],
   "source": [
    "# This proves that using a simpler model will yield better results.\n",
    "\n",
    "sub_file['Response'] = test_pred/10\n",
    "sub_file.to_csv('submission_tuned_lgbm_stacking.csv', index = 0)"
   ]
  }
 ],
 "metadata": {
  "kernelspec": {
   "display_name": "Python 3",
   "language": "python",
   "name": "python3"
  },
  "language_info": {
   "codemirror_mode": {
    "name": "ipython",
    "version": 3
   },
   "file_extension": ".py",
   "mimetype": "text/x-python",
   "name": "python",
   "nbconvert_exporter": "python",
   "pygments_lexer": "ipython3",
   "version": "3.7.6"
  }
 },
 "nbformat": 4,
 "nbformat_minor": 4
}
